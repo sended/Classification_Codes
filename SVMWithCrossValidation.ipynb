{
 "cells": [
  {
   "cell_type": "code",
   "execution_count": 1,
   "metadata": {},
   "outputs": [],
   "source": [
    "import numpy as np\n",
    "import pandas as pd\n",
    "from sklearn.svm import SVC\n",
    "from sklearn.model_selection import train_test_split\n",
    "from sklearn.metrics import accuracy_score, confusion_matrix, classification_report\n",
    "import matplotlib.pyplot as plt\n",
    "from sklearn.model_selection import GridSearchCV"
   ]
  },
  {
   "cell_type": "code",
   "execution_count": 2,
   "metadata": {},
   "outputs": [
    {
     "data": {
      "text/html": [
       "<div>\n",
       "<style scoped>\n",
       "    .dataframe tbody tr th:only-of-type {\n",
       "        vertical-align: middle;\n",
       "    }\n",
       "\n",
       "    .dataframe tbody tr th {\n",
       "        vertical-align: top;\n",
       "    }\n",
       "\n",
       "    .dataframe thead th {\n",
       "        text-align: right;\n",
       "    }\n",
       "</style>\n",
       "<table border=\"1\" class=\"dataframe\">\n",
       "  <thead>\n",
       "    <tr style=\"text-align: right;\">\n",
       "      <th></th>\n",
       "      <th>SepalLengthCm</th>\n",
       "      <th>SepalWidthCm</th>\n",
       "      <th>PetalLengthCm</th>\n",
       "      <th>PetalWidthCm</th>\n",
       "      <th>Species</th>\n",
       "    </tr>\n",
       "  </thead>\n",
       "  <tbody>\n",
       "    <tr>\n",
       "      <th>0</th>\n",
       "      <td>5.1</td>\n",
       "      <td>3.5</td>\n",
       "      <td>1.4</td>\n",
       "      <td>0.2</td>\n",
       "      <td>Iris-setosa</td>\n",
       "    </tr>\n",
       "    <tr>\n",
       "      <th>1</th>\n",
       "      <td>4.9</td>\n",
       "      <td>3.0</td>\n",
       "      <td>1.4</td>\n",
       "      <td>0.2</td>\n",
       "      <td>Iris-setosa</td>\n",
       "    </tr>\n",
       "    <tr>\n",
       "      <th>2</th>\n",
       "      <td>4.7</td>\n",
       "      <td>3.2</td>\n",
       "      <td>1.3</td>\n",
       "      <td>0.2</td>\n",
       "      <td>Iris-setosa</td>\n",
       "    </tr>\n",
       "    <tr>\n",
       "      <th>3</th>\n",
       "      <td>4.6</td>\n",
       "      <td>3.1</td>\n",
       "      <td>1.5</td>\n",
       "      <td>0.2</td>\n",
       "      <td>Iris-setosa</td>\n",
       "    </tr>\n",
       "    <tr>\n",
       "      <th>4</th>\n",
       "      <td>5.0</td>\n",
       "      <td>3.6</td>\n",
       "      <td>1.4</td>\n",
       "      <td>0.2</td>\n",
       "      <td>Iris-setosa</td>\n",
       "    </tr>\n",
       "  </tbody>\n",
       "</table>\n",
       "</div>"
      ],
      "text/plain": [
       "   SepalLengthCm  SepalWidthCm  PetalLengthCm  PetalWidthCm      Species\n",
       "0            5.1           3.5            1.4           0.2  Iris-setosa\n",
       "1            4.9           3.0            1.4           0.2  Iris-setosa\n",
       "2            4.7           3.2            1.3           0.2  Iris-setosa\n",
       "3            4.6           3.1            1.5           0.2  Iris-setosa\n",
       "4            5.0           3.6            1.4           0.2  Iris-setosa"
      ]
     },
     "execution_count": 2,
     "metadata": {},
     "output_type": "execute_result"
    }
   ],
   "source": [
    "iris = pd.read_csv('Iris.csv')\n",
    "iris.drop(['Id'], axis = 1, inplace = True)\n",
    "iris.head()"
   ]
  },
  {
   "cell_type": "code",
   "execution_count": 3,
   "metadata": {},
   "outputs": [],
   "source": [
    "trainX, testX, trainY, testY = train_test_split(iris.drop(['Species'], axis =1), iris.Species, test_size= 0.25, \n",
    "                                                stratify = iris['Species'])"
   ]
  },
  {
   "cell_type": "code",
   "execution_count": 4,
   "metadata": {},
   "outputs": [],
   "source": [
    "parameters_test = {\n",
    "    'C':[0.1, 0.5, 1.0, 5.0, 10.0],\n",
    "    'kernel':['linear','poly','rbf','sigmoid']\n",
    "}"
   ]
  },
  {
   "cell_type": "code",
   "execution_count": 5,
   "metadata": {},
   "outputs": [],
   "source": [
    "classificator = SVC()\n",
    "grid = GridSearchCV(classificator, parameters_test, scoring= 'accuracy', n_jobs=-1)"
   ]
  },
  {
   "cell_type": "code",
   "execution_count": 6,
   "metadata": {},
   "outputs": [
    {
     "name": "stderr",
     "output_type": "stream",
     "text": [
      "C:\\ProgramData\\Anaconda3\\lib\\site-packages\\sklearn\\model_selection\\_split.py:2053: FutureWarning: You should specify a value for 'cv' instead of relying on the default value. The default value will change from 3 to 5 in version 0.22.\n",
      "  warnings.warn(CV_WARNING, FutureWarning)\n",
      "C:\\ProgramData\\Anaconda3\\lib\\site-packages\\sklearn\\model_selection\\_search.py:841: DeprecationWarning: The default of the `iid` parameter will change from True to False in version 0.22 and will be removed in 0.24. This will change numeric results when test-set sizes are unequal.\n",
      "  DeprecationWarning)\n"
     ]
    },
    {
     "data": {
      "text/plain": [
       "GridSearchCV(cv='warn', error_score='raise-deprecating',\n",
       "       estimator=SVC(C=1.0, cache_size=200, class_weight=None, coef0=0.0,\n",
       "  decision_function_shape='ovr', degree=3, gamma='auto_deprecated',\n",
       "  kernel='rbf', max_iter=-1, probability=False, random_state=None,\n",
       "  shrinking=True, tol=0.001, verbose=False),\n",
       "       fit_params=None, iid='warn', n_jobs=-1,\n",
       "       param_grid={'C': [0.1, 0.5, 1.0, 5.0, 10.0], 'kernel': ['linear', 'poly', 'rbf', 'sigmoid']},\n",
       "       pre_dispatch='2*n_jobs', refit=True, return_train_score='warn',\n",
       "       scoring='accuracy', verbose=0)"
      ]
     },
     "execution_count": 6,
     "metadata": {},
     "output_type": "execute_result"
    }
   ],
   "source": [
    "grid.fit(trainX, trainY)"
   ]
  },
  {
   "cell_type": "code",
   "execution_count": 7,
   "metadata": {},
   "outputs": [
    {
     "name": "stdout",
     "output_type": "stream",
     "text": [
      "    mean_fit_time  std_fit_time  mean_score_time  std_score_time param_C  \\\n",
      "0        0.003324  4.696845e-04         0.001330    4.708084e-04     0.1   \n",
      "1        0.003989  0.000000e+00         0.000997    0.000000e+00     0.1   \n",
      "2        0.003989  0.000000e+00         0.000997    0.000000e+00     0.1   \n",
      "3        0.003989  0.000000e+00         0.000997    0.000000e+00     0.1   \n",
      "4        0.001994  7.867412e-07         0.000333    4.704712e-04     0.5   \n",
      "5        0.001330  4.700217e-04         0.000998    3.371748e-07     0.5   \n",
      "6        0.001662  4.697969e-04         0.000665    4.701341e-04     0.5   \n",
      "7        0.001995  2.247832e-07         0.000665    4.700779e-04     0.5   \n",
      "8        0.000998  3.371748e-07         0.000998    2.973602e-07       1   \n",
      "9        0.001662  4.705275e-04         0.000665    4.699093e-04       1   \n",
      "10       0.001330  4.702465e-04         0.000665    4.701341e-04       1   \n",
      "11       0.001330  4.700217e-04         0.000997    1.123916e-07       1   \n",
      "12       0.001662  4.701903e-04         0.000665    4.701340e-04       5   \n",
      "13       0.001662  4.701341e-04         0.000333    4.703588e-04       5   \n",
      "14       0.001330  4.697407e-04         0.000997    5.150430e-07       5   \n",
      "15       0.001662  4.700779e-04         0.000665    4.702465e-04       5   \n",
      "16       0.001330  4.701342e-04         0.000665    4.699655e-04      10   \n",
      "17       0.001330  4.702464e-04         0.000665    4.704150e-04      10   \n",
      "18       0.001662  4.701903e-04         0.000665    4.701903e-04      10   \n",
      "19       0.001995  1.946680e-07         0.000332    4.701340e-04      10   \n",
      "\n",
      "   param_kernel                            params  split0_test_score  \\\n",
      "0        linear    {'C': 0.1, 'kernel': 'linear'}           0.974359   \n",
      "1          poly      {'C': 0.1, 'kernel': 'poly'}           0.974359   \n",
      "2           rbf       {'C': 0.1, 'kernel': 'rbf'}           0.948718   \n",
      "3       sigmoid   {'C': 0.1, 'kernel': 'sigmoid'}           0.333333   \n",
      "4        linear    {'C': 0.5, 'kernel': 'linear'}           0.974359   \n",
      "5          poly      {'C': 0.5, 'kernel': 'poly'}           0.974359   \n",
      "6           rbf       {'C': 0.5, 'kernel': 'rbf'}           0.974359   \n",
      "7       sigmoid   {'C': 0.5, 'kernel': 'sigmoid'}           0.333333   \n",
      "8        linear    {'C': 1.0, 'kernel': 'linear'}           0.974359   \n",
      "9          poly      {'C': 1.0, 'kernel': 'poly'}           0.974359   \n",
      "10          rbf       {'C': 1.0, 'kernel': 'rbf'}           0.974359   \n",
      "11      sigmoid   {'C': 1.0, 'kernel': 'sigmoid'}           0.333333   \n",
      "12       linear    {'C': 5.0, 'kernel': 'linear'}           0.974359   \n",
      "13         poly      {'C': 5.0, 'kernel': 'poly'}           0.974359   \n",
      "14          rbf       {'C': 5.0, 'kernel': 'rbf'}           0.974359   \n",
      "15      sigmoid   {'C': 5.0, 'kernel': 'sigmoid'}           0.333333   \n",
      "16       linear   {'C': 10.0, 'kernel': 'linear'}           0.974359   \n",
      "17         poly     {'C': 10.0, 'kernel': 'poly'}           0.974359   \n",
      "18          rbf      {'C': 10.0, 'kernel': 'rbf'}           0.974359   \n",
      "19      sigmoid  {'C': 10.0, 'kernel': 'sigmoid'}           0.333333   \n",
      "\n",
      "    split1_test_score  split2_test_score  mean_test_score  std_test_score  \\\n",
      "0            0.945946           1.000000         0.973214        0.021834   \n",
      "1            0.972973           0.972222         0.973214        0.000890   \n",
      "2            0.891892           0.972222         0.937500        0.033444   \n",
      "3            0.324324           0.333333         0.330357        0.004237   \n",
      "4            0.972973           1.000000         0.982143        0.012303   \n",
      "5            0.972973           0.972222         0.973214        0.000890   \n",
      "6            0.972973           0.972222         0.973214        0.000890   \n",
      "7            0.324324           0.333333         0.330357        0.004237   \n",
      "8            0.972973           0.972222         0.973214        0.000890   \n",
      "9            0.972973           0.972222         0.973214        0.000890   \n",
      "10           0.972973           1.000000         0.982143        0.012303   \n",
      "11           0.324324           0.333333         0.330357        0.004237   \n",
      "12           1.000000           0.972222         0.982143        0.012573   \n",
      "13           0.972973           0.972222         0.973214        0.000890   \n",
      "14           1.000000           0.972222         0.982143        0.012573   \n",
      "15           0.324324           0.333333         0.330357        0.004237   \n",
      "16           0.972973           0.972222         0.973214        0.000890   \n",
      "17           0.972973           0.972222         0.973214        0.000890   \n",
      "18           0.972973           0.972222         0.973214        0.000890   \n",
      "19           0.324324           0.333333         0.330357        0.004237   \n",
      "\n",
      "    rank_test_score  split0_train_score  split1_train_score  \\\n",
      "0                 5            0.986301            0.960000   \n",
      "1                 5            0.972603            1.000000   \n",
      "2                15            0.972603            0.946667   \n",
      "3                16            0.342466            0.333333   \n",
      "4                 1            1.000000            0.973333   \n",
      "5                 5            0.986301            1.000000   \n",
      "6                 5            0.972603            0.960000   \n",
      "7                16            0.342466            0.333333   \n",
      "8                 5            0.986301            0.986667   \n",
      "9                 5            1.000000            1.000000   \n",
      "10                1            0.986301            0.973333   \n",
      "11               16            0.342466            0.333333   \n",
      "12                1            0.972603            0.986667   \n",
      "13                5            1.000000            1.000000   \n",
      "14                1            0.986301            1.000000   \n",
      "15               16            0.342466            0.333333   \n",
      "16                5            0.972603            0.973333   \n",
      "17                5            1.000000            1.000000   \n",
      "18                5            0.986301            0.986667   \n",
      "19               16            0.342466            0.333333   \n",
      "\n",
      "    split2_train_score  mean_train_score  std_train_score  \n",
      "0             0.986842          0.977714         0.012528  \n",
      "1             1.000000          0.990868         0.012915  \n",
      "2             0.986842          0.968704         0.016632  \n",
      "3             0.342105          0.339301         0.004223  \n",
      "4             0.986842          0.986725         0.010887  \n",
      "5             1.000000          0.995434         0.006458  \n",
      "6             0.986842          0.973148         0.010965  \n",
      "7             0.342105          0.339301         0.004223  \n",
      "8             1.000000          0.990989         0.006373  \n",
      "9             1.000000          1.000000         0.000000  \n",
      "10            0.973684          0.977773         0.006032  \n",
      "11            0.342105          0.339301         0.004223  \n",
      "12            0.986842          0.982037         0.006672  \n",
      "13            1.000000          1.000000         0.000000  \n",
      "14            0.986842          0.991048         0.006334  \n",
      "15            0.342105          0.339301         0.004223  \n",
      "16            0.986842          0.977593         0.006547  \n",
      "17            1.000000          1.000000         0.000000  \n",
      "18            0.973684          0.982217         0.006036  \n",
      "19            0.342105          0.339301         0.004223  \n"
     ]
    },
    {
     "name": "stderr",
     "output_type": "stream",
     "text": [
      "C:\\ProgramData\\Anaconda3\\lib\\site-packages\\sklearn\\utils\\deprecation.py:125: FutureWarning: You are accessing a training score ('split0_train_score'), which will not be available by default any more in 0.21. If you need training scores, please set return_train_score=True\n",
      "  warnings.warn(*warn_args, **warn_kwargs)\n",
      "C:\\ProgramData\\Anaconda3\\lib\\site-packages\\sklearn\\utils\\deprecation.py:125: FutureWarning: You are accessing a training score ('split1_train_score'), which will not be available by default any more in 0.21. If you need training scores, please set return_train_score=True\n",
      "  warnings.warn(*warn_args, **warn_kwargs)\n",
      "C:\\ProgramData\\Anaconda3\\lib\\site-packages\\sklearn\\utils\\deprecation.py:125: FutureWarning: You are accessing a training score ('split2_train_score'), which will not be available by default any more in 0.21. If you need training scores, please set return_train_score=True\n",
      "  warnings.warn(*warn_args, **warn_kwargs)\n",
      "C:\\ProgramData\\Anaconda3\\lib\\site-packages\\sklearn\\utils\\deprecation.py:125: FutureWarning: You are accessing a training score ('mean_train_score'), which will not be available by default any more in 0.21. If you need training scores, please set return_train_score=True\n",
      "  warnings.warn(*warn_args, **warn_kwargs)\n",
      "C:\\ProgramData\\Anaconda3\\lib\\site-packages\\sklearn\\utils\\deprecation.py:125: FutureWarning: You are accessing a training score ('std_train_score'), which will not be available by default any more in 0.21. If you need training scores, please set return_train_score=True\n",
      "  warnings.warn(*warn_args, **warn_kwargs)\n"
     ]
    }
   ],
   "source": [
    "print(pd.DataFrame(grid.cv_results_))"
   ]
  },
  {
   "cell_type": "code",
   "execution_count": 8,
   "metadata": {},
   "outputs": [
    {
     "data": {
      "text/plain": [
       "{'C': 0.5, 'kernel': 'linear'}"
      ]
     },
     "execution_count": 8,
     "metadata": {},
     "output_type": "execute_result"
    }
   ],
   "source": [
    "grid.best_params_"
   ]
  },
  {
   "cell_type": "code",
   "execution_count": 9,
   "metadata": {},
   "outputs": [
    {
     "name": "stdout",
     "output_type": "stream",
     "text": [
      "[[12  0  0]\n",
      " [ 0 12  1]\n",
      " [ 0  1 12]]\n",
      "                 precision    recall  f1-score   support\n",
      "\n",
      "    Iris-setosa       1.00      1.00      1.00        12\n",
      "Iris-versicolor       0.92      0.92      0.92        13\n",
      " Iris-virginica       0.92      0.92      0.92        13\n",
      "\n",
      "      micro avg       0.95      0.95      0.95        38\n",
      "      macro avg       0.95      0.95      0.95        38\n",
      "   weighted avg       0.95      0.95      0.95        38\n",
      "\n"
     ]
    }
   ],
   "source": [
    "classificator = SVC(C = 0.1, kernel='linear')\n",
    "classificator.fit(trainX, trainY)\n",
    "predict = classificator.predict(testX)\n",
    "print(confusion_matrix(testY, predict))\n",
    "print(classification_report(testY, predict))"
   ]
  },
  {
   "cell_type": "code",
   "execution_count": 10,
   "metadata": {},
   "outputs": [
    {
     "data": {
      "text/plain": [
       "array([[5.1, 3.8, 1.9, 0.4],\n",
       "       [5.1, 3.3, 1.7, 0.5],\n",
       "       [4.8, 3.4, 1.9, 0.2],\n",
       "       [4.8, 3.1, 1.6, 0.2],\n",
       "       [6.8, 2.8, 4.8, 1.4],\n",
       "       [6.7, 3. , 5. , 1.7],\n",
       "       [6.7, 3.1, 4.4, 1.4],\n",
       "       [5.5, 2.6, 4.4, 1.2],\n",
       "       [5.5, 2.4, 3.8, 1.1],\n",
       "       [6.4, 3.2, 4.5, 1.5],\n",
       "       [5.7, 2.8, 4.5, 1.3],\n",
       "       [5.6, 3. , 4.5, 1.5],\n",
       "       [6. , 3.4, 4.5, 1.6],\n",
       "       [6.5, 2.8, 4.6, 1.5],\n",
       "       [4.9, 2.4, 3.3, 1. ],\n",
       "       [5.9, 3. , 4.2, 1.5],\n",
       "       [5.7, 2.6, 3.5, 1. ],\n",
       "       [6.7, 3.1, 4.7, 1.5],\n",
       "       [6.6, 3. , 4.4, 1.4],\n",
       "       [6.3, 2.5, 4.9, 1.5],\n",
       "       [6.1, 3. , 4.6, 1.4],\n",
       "       [5.2, 2.7, 3.9, 1.4],\n",
       "       [6.1, 2.9, 4.7, 1.4],\n",
       "       [6. , 2.9, 4.5, 1.5],\n",
       "       [6.3, 3.3, 4.7, 1.6],\n",
       "       [7. , 3.2, 4.7, 1.4],\n",
       "       [5.4, 3. , 4.5, 1.5],\n",
       "       [6.3, 2.3, 4.4, 1.3],\n",
       "       [5.9, 3.2, 4.8, 1.8],\n",
       "       [6.1, 2.6, 5.6, 1.4],\n",
       "       [6.3, 2.9, 5.6, 1.8],\n",
       "       [6.1, 3. , 4.9, 1.8],\n",
       "       [6.4, 3.2, 5.3, 2.3],\n",
       "       [5.8, 2.8, 5.1, 2.4],\n",
       "       [6.9, 3.1, 5.1, 2.3],\n",
       "       [6.5, 3.2, 5.1, 2. ],\n",
       "       [5.8, 2.7, 5.1, 1.9],\n",
       "       [6.2, 2.8, 4.8, 1.8],\n",
       "       [6.3, 2.8, 5.1, 1.5],\n",
       "       [6.4, 3.1, 5.5, 1.8],\n",
       "       [6.3, 2.7, 4.9, 1.8],\n",
       "       [5.7, 2.5, 5. , 2. ],\n",
       "       [6.3, 2.5, 5. , 1.9],\n",
       "       [5.8, 2.7, 5.1, 1.9],\n",
       "       [6.9, 3.1, 5.4, 2.1],\n",
       "       [5.6, 2.8, 4.9, 2. ],\n",
       "       [6.4, 2.7, 5.3, 1.9],\n",
       "       [6.5, 3. , 5.2, 2. ],\n",
       "       [6. , 3. , 4.8, 1.8],\n",
       "       [7.2, 3. , 5.8, 1.6],\n",
       "       [6.7, 3. , 5.2, 2.3]])"
      ]
     },
     "execution_count": 10,
     "metadata": {},
     "output_type": "execute_result"
    }
   ],
   "source": [
    "classificator.support_vectors_"
   ]
  },
  {
   "cell_type": "code",
   "execution_count": 11,
   "metadata": {},
   "outputs": [
    {
     "data": {
      "text/plain": [
       "array([[-0.13377305,  0.33377305, -0.64669506, -0.27131916],\n",
       "       [-0.15374564,  0.11058829, -0.48023885, -0.22071243],\n",
       "       [-0.05323127,  0.20070823, -1.14803009, -0.93947493]])"
      ]
     },
     "execution_count": 11,
     "metadata": {},
     "output_type": "execute_result"
    }
   ],
   "source": [
    "classificator.coef_"
   ]
  },
  {
   "cell_type": "code",
   "execution_count": 12,
   "metadata": {},
   "outputs": [
    {
     "data": {
      "text/plain": [
       "array([1.69638998, 2.34595062, 6.94317417])"
      ]
     },
     "execution_count": 12,
     "metadata": {},
     "output_type": "execute_result"
    }
   ],
   "source": [
    "classificator.intercept_"
   ]
  },
  {
   "cell_type": "code",
   "execution_count": 13,
   "metadata": {},
   "outputs": [],
   "source": [
    "trainX, testX, trainY, testY = train_test_split(iris.drop(['Species', 'SepalWidthCm', 'SepalLengthCm'], axis =1), iris.Species, test_size= 0.25, \n",
    "                                                stratify = iris['Species'])"
   ]
  },
  {
   "cell_type": "code",
   "execution_count": 14,
   "metadata": {},
   "outputs": [
    {
     "name": "stdout",
     "output_type": "stream",
     "text": [
      "[[12  0  0]\n",
      " [ 0 13  0]\n",
      " [ 0  3 10]]\n",
      "                 precision    recall  f1-score   support\n",
      "\n",
      "    Iris-setosa       1.00      1.00      1.00        12\n",
      "Iris-versicolor       0.81      1.00      0.90        13\n",
      " Iris-virginica       1.00      0.77      0.87        13\n",
      "\n",
      "      micro avg       0.92      0.92      0.92        38\n",
      "      macro avg       0.94      0.92      0.92        38\n",
      "   weighted avg       0.94      0.92      0.92        38\n",
      "\n"
     ]
    },
    {
     "name": "stderr",
     "output_type": "stream",
     "text": [
      "C:\\ProgramData\\Anaconda3\\lib\\site-packages\\sklearn\\svm\\base.py:196: FutureWarning: The default value of gamma will change from 'auto' to 'scale' in version 0.22 to account better for unscaled features. Set gamma explicitly to 'auto' or 'scale' to avoid this warning.\n",
      "  \"avoid this warning.\", FutureWarning)\n"
     ]
    }
   ],
   "source": [
    "classificator = SVC(C = 10, kernel='rbf')\n",
    "classificator.fit(trainX, trainY)\n",
    "predict = classificator.predict(testX)\n",
    "print(confusion_matrix(testY, predict))\n",
    "print(classification_report(testY, predict))"
   ]
  },
  {
   "cell_type": "code",
   "execution_count": 15,
   "metadata": {},
   "outputs": [],
   "source": [
    "from mlxtend.plotting import plot_decision_regions\n",
    "from sklearn.preprocessing import LabelEncoder"
   ]
  },
  {
   "cell_type": "code",
   "execution_count": 16,
   "metadata": {},
   "outputs": [],
   "source": [
    "le = LabelEncoder()\n",
    "trainNumY = le.fit_transform(trainY.values)"
   ]
  },
  {
   "cell_type": "code",
   "execution_count": 17,
   "metadata": {},
   "outputs": [
    {
     "data": {
      "text/plain": [
       "SVC(C=10, cache_size=200, class_weight=None, coef0=0.0,\n",
       "  decision_function_shape='ovr', degree=3, gamma='auto_deprecated',\n",
       "  kernel='linear', max_iter=-1, probability=False, random_state=None,\n",
       "  shrinking=True, tol=0.001, verbose=False)"
      ]
     },
     "execution_count": 17,
     "metadata": {},
     "output_type": "execute_result"
    }
   ],
   "source": [
    "classificator = SVC(C = 10, kernel='linear')\n",
    "classificator.fit(trainX, trainNumY)"
   ]
  },
  {
   "cell_type": "code",
   "execution_count": 18,
   "metadata": {},
   "outputs": [
    {
     "data": {
      "text/plain": [
       "array([1, 1, 0, 1, 0, 2, 0, 0, 0, 2, 1, 2, 2, 1, 2, 1, 0, 1, 0, 0, 0, 1,\n",
       "       0, 0, 0, 2, 2, 0, 1, 0, 0, 0, 0, 2, 0, 2, 2, 2, 2, 1, 0, 1, 0, 2,\n",
       "       1, 1, 0, 1, 1, 2, 0, 2, 0, 1, 1, 1, 0, 1, 1, 2, 1, 1, 1, 1, 0, 0,\n",
       "       1, 0, 0, 0, 1, 2, 2, 1, 2, 2, 2, 0, 0, 0, 1, 2, 2, 2, 2, 2, 2, 2,\n",
       "       2, 0, 2, 0, 0, 2, 2, 1, 2, 1, 0, 0, 1, 0, 1, 2, 1, 2, 2, 1, 1, 1,\n",
       "       1, 2])"
      ]
     },
     "execution_count": 18,
     "metadata": {},
     "output_type": "execute_result"
    }
   ],
   "source": [
    "trainNumY"
   ]
  },
  {
   "cell_type": "code",
   "execution_count": 19,
   "metadata": {},
   "outputs": [
    {
     "data": {
      "text/plain": [
       "<matplotlib.axes._subplots.AxesSubplot at 0x1af39d70b70>"
      ]
     },
     "execution_count": 19,
     "metadata": {},
     "output_type": "execute_result"
    },
    {
     "data": {
      "image/png": "[encoded data removed]",
      "text/plain": [
       "<Figure size 432x288 with 1 Axes>"
      ]
     },
     "metadata": {
      "needs_background": "light"
     },
     "output_type": "display_data"
    }
   ],
   "source": [
    "plot_decision_regions(X=trainX.values, \n",
    "                      y=trainNumY,\n",
    "                      clf=classificator,\n",
    "                      legend=3\n",
    "                      )"
   ]
  },
  {
   "cell_type": "code",
   "execution_count": 20,
   "metadata": {},
   "outputs": [
    {
     "name": "stdout",
     "output_type": "stream",
     "text": [
      "0 is Iris-setosa\n",
      "1 is Iris-versicolor\n",
      "2 is Iris-virginica\n"
     ]
    }
   ],
   "source": [
    "print('0 is %s' % le.inverse_transform([0])[0])\n",
    "print('1 is %s' % le.inverse_transform([1])[0])\n",
    "print('2 is %s' % le.inverse_transform([2])[0])"
   ]
  },
  {
   "cell_type": "code",
   "execution_count": 21,
   "metadata": {},
   "outputs": [],
   "source": [
    "XC = iris.drop(['Species'], axis = 1) #X completo\n",
    "XP = iris.drop(['SepalLengthCm', 'SepalWidthCm', 'Species'], axis=1) #X Parcial\n",
    "Y = iris['Species']"
   ]
  },
  {
   "cell_type": "code",
   "execution_count": 22,
   "metadata": {},
   "outputs": [],
   "source": [
    "from sklearn.model_selection import cross_val_score"
   ]
  },
  {
   "cell_type": "code",
   "execution_count": 23,
   "metadata": {},
   "outputs": [
    {
     "name": "stdout",
     "output_type": "stream",
     "text": [
      "[0.96666667 0.96666667 0.96666667 0.96666667 1.        ]\n"
     ]
    }
   ],
   "source": [
    "SVM = SVC(C = 0.1, kernel='linear')\n",
    "score = cross_val_score(SVM, XC, Y, cv=5)\n",
    "print(score)"
   ]
  },
  {
   "cell_type": "code",
   "execution_count": 24,
   "metadata": {},
   "outputs": [
    {
     "name": "stdout",
     "output_type": "stream",
     "text": [
      "A acuracia da Iris com todos atributos tem:\n",
      "Média: 0.97 e Desvio Padrão de +/-: 0.01\n"
     ]
    }
   ],
   "source": [
    "print('A acuracia da Iris com todos atributos tem:')\n",
    "print('Média: %0.2f e Desvio Padrão de +/-: %0.2f' % (np.mean(score), np.std(score)))"
   ]
  },
  {
   "cell_type": "code",
   "execution_count": 25,
   "metadata": {},
   "outputs": [
    {
     "name": "stdout",
     "output_type": "stream",
     "text": [
      "[0.96666667 0.96666667 0.93333333 0.93333333 1.        ]\n"
     ]
    }
   ],
   "source": [
    "SVM = SVC(C = 0.1, kernel='linear')\n",
    "score = cross_val_score(SVM, XP, Y, cv=5)\n",
    "print(score)"
   ]
  },
  {
   "cell_type": "code",
   "execution_count": 26,
   "metadata": {},
   "outputs": [
    {
     "name": "stdout",
     "output_type": "stream",
     "text": [
      "A acuracia da Iris só com atributo da Petalas tem:\n",
      "Média: 0.96 e Desvio Padrão de +/-: 0.02\n"
     ]
    }
   ],
   "source": [
    "print('A acuracia da Iris só com atributo da Petalas tem:')\n",
    "print('Média: %0.2f e Desvio Padrão de +/-: %0.2f' % (np.mean(score), np.std(score)))"
   ]
  }
 ],
 "metadata": {
  "kernelspec": {
   "display_name": "Python 3",
   "language": "python",
   "name": "python3"
  },
  "language_info": {
   "codemirror_mode": {
    "name": "ipython",
    "version": 3
   },
   "file_extension": ".py",
   "mimetype": "text/x-python",
   "name": "python",
   "nbconvert_exporter": "python",
   "pygments_lexer": "ipython3",
   "version": "3.6.8"
  }
 },
 "nbformat": 4,
 "nbformat_minor": 2
}
