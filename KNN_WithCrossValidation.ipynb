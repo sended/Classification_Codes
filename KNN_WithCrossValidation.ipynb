{
 "cells": [
  {
   "cell_type": "code",
   "execution_count": 1,
   "metadata": {},
   "outputs": [],
   "source": [
    "import numpy as np\n",
    "import pandas as pd\n",
    "from sklearn.neighbors import KNeighborsClassifier\n",
    "from sklearn.model_selection import train_test_split\n",
    "from sklearn.metrics import accuracy_score, confusion_matrix, classification_report\n",
    "import matplotlib.pyplot as plt\n",
    "from sklearn.model_selection import GridSearchCV"
   ]
  },
  {
   "cell_type": "code",
   "execution_count": 2,
   "metadata": {},
   "outputs": [
    {
     "data": {
      "text/html": [
       "<div>\n",
       "<style scoped>\n",
       "    .dataframe tbody tr th:only-of-type {\n",
       "        vertical-align: middle;\n",
       "    }\n",
       "\n",
       "    .dataframe tbody tr th {\n",
       "        vertical-align: top;\n",
       "    }\n",
       "\n",
       "    .dataframe thead th {\n",
       "        text-align: right;\n",
       "    }\n",
       "</style>\n",
       "<table border=\"1\" class=\"dataframe\">\n",
       "  <thead>\n",
       "    <tr style=\"text-align: right;\">\n",
       "      <th></th>\n",
       "      <th>SepalLengthCm</th>\n",
       "      <th>SepalWidthCm</th>\n",
       "      <th>PetalLengthCm</th>\n",
       "      <th>PetalWidthCm</th>\n",
       "      <th>Species</th>\n",
       "    </tr>\n",
       "  </thead>\n",
       "  <tbody>\n",
       "    <tr>\n",
       "      <th>0</th>\n",
       "      <td>5.1</td>\n",
       "      <td>3.5</td>\n",
       "      <td>1.4</td>\n",
       "      <td>0.2</td>\n",
       "      <td>Iris-setosa</td>\n",
       "    </tr>\n",
       "    <tr>\n",
       "      <th>1</th>\n",
       "      <td>4.9</td>\n",
       "      <td>3.0</td>\n",
       "      <td>1.4</td>\n",
       "      <td>0.2</td>\n",
       "      <td>Iris-setosa</td>\n",
       "    </tr>\n",
       "    <tr>\n",
       "      <th>2</th>\n",
       "      <td>4.7</td>\n",
       "      <td>3.2</td>\n",
       "      <td>1.3</td>\n",
       "      <td>0.2</td>\n",
       "      <td>Iris-setosa</td>\n",
       "    </tr>\n",
       "    <tr>\n",
       "      <th>3</th>\n",
       "      <td>4.6</td>\n",
       "      <td>3.1</td>\n",
       "      <td>1.5</td>\n",
       "      <td>0.2</td>\n",
       "      <td>Iris-setosa</td>\n",
       "    </tr>\n",
       "    <tr>\n",
       "      <th>4</th>\n",
       "      <td>5.0</td>\n",
       "      <td>3.6</td>\n",
       "      <td>1.4</td>\n",
       "      <td>0.2</td>\n",
       "      <td>Iris-setosa</td>\n",
       "    </tr>\n",
       "  </tbody>\n",
       "</table>\n",
       "</div>"
      ],
      "text/plain": [
       "   SepalLengthCm  SepalWidthCm  PetalLengthCm  PetalWidthCm      Species\n",
       "0            5.1           3.5            1.4           0.2  Iris-setosa\n",
       "1            4.9           3.0            1.4           0.2  Iris-setosa\n",
       "2            4.7           3.2            1.3           0.2  Iris-setosa\n",
       "3            4.6           3.1            1.5           0.2  Iris-setosa\n",
       "4            5.0           3.6            1.4           0.2  Iris-setosa"
      ]
     },
     "execution_count": 2,
     "metadata": {},
     "output_type": "execute_result"
    }
   ],
   "source": [
    "iris = pd.read_csv('Iris.csv')\n",
    "iris.drop(['Id'], axis = 1, inplace = True)\n",
    "iris.head()"
   ]
  },
  {
   "cell_type": "code",
   "execution_count": 3,
   "metadata": {},
   "outputs": [],
   "source": [
    "trainX, testX, trainY, testY = train_test_split(iris.drop(['Species'], axis =1), iris.Species, test_size= 0.25, \n",
    "                                                stratify = iris['Species'])"
   ]
  },
  {
   "cell_type": "code",
   "execution_count": 4,
   "metadata": {},
   "outputs": [],
   "source": [
    "parameters_test = {\n",
    "    'n_neighbors':list(range(1, 41))\n",
    "}"
   ]
  },
  {
   "cell_type": "code",
   "execution_count": 5,
   "metadata": {},
   "outputs": [],
   "source": [
    "classificator = KNeighborsClassifier(n_jobs= -1)\n",
    "grid = GridSearchCV(classificator, parameters_test, scoring= 'accuracy', n_jobs=-1)"
   ]
  },
  {
   "cell_type": "code",
   "execution_count": 6,
   "metadata": {},
   "outputs": [
    {
     "name": "stderr",
     "output_type": "stream",
     "text": [
      "C:\\ProgramData\\Anaconda3\\lib\\site-packages\\sklearn\\model_selection\\_split.py:2053: FutureWarning: You should specify a value for 'cv' instead of relying on the default value. The default value will change from 3 to 5 in version 0.22.\n",
      "  warnings.warn(CV_WARNING, FutureWarning)\n",
      "C:\\ProgramData\\Anaconda3\\lib\\site-packages\\sklearn\\model_selection\\_search.py:841: DeprecationWarning: The default of the `iid` parameter will change from True to False in version 0.22 and will be removed in 0.24. This will change numeric results when test-set sizes are unequal.\n",
      "  DeprecationWarning)\n"
     ]
    },
    {
     "data": {
      "text/plain": [
       "GridSearchCV(cv='warn', error_score='raise-deprecating',\n",
       "       estimator=KNeighborsClassifier(algorithm='auto', leaf_size=30, metric='minkowski',\n",
       "           metric_params=None, n_jobs=-1, n_neighbors=5, p=2,\n",
       "           weights='uniform'),\n",
       "       fit_params=None, iid='warn', n_jobs=-1,\n",
       "       param_grid={'n_neighbors': [1, 2, 3, 4, 5, 6, 7, 8, 9, 10, 11, 12, 13, 14, 15, 16, 17, 18, 19, 20, 21, 22, 23, 24, 25, 26, 27, 28, 29, 30, 31, 32, 33, 34, 35, 36, 37, 38, 39, 40]},\n",
       "       pre_dispatch='2*n_jobs', refit=True, return_train_score='warn',\n",
       "       scoring='accuracy', verbose=0)"
      ]
     },
     "execution_count": 6,
     "metadata": {},
     "output_type": "execute_result"
    }
   ],
   "source": [
    "grid.fit(trainX, trainY)"
   ]
  },
  {
   "cell_type": "code",
   "execution_count": 7,
   "metadata": {},
   "outputs": [
    {
     "name": "stdout",
     "output_type": "stream",
     "text": [
      "    mean_fit_time  std_fit_time  mean_score_time  std_score_time  \\\n",
      "0        0.002659  4.700217e-04         0.116751    1.693941e-03   \n",
      "1        0.002659  4.700217e-04         0.116749    9.402681e-04   \n",
      "2        0.002991  8.134201e-04         0.117747    4.705282e-04   \n",
      "3        0.002992  0.000000e+00         0.116417    4.703588e-04   \n",
      "4        0.001994  5.947204e-07         0.109862    8.136147e-04   \n",
      "5        0.001662  4.701903e-04         0.111186    4.701341e-04   \n",
      "6        0.001662  4.703589e-04         0.113181    4.701905e-04   \n",
      "7        0.001662  4.696845e-04         0.113181    4.701341e-04   \n",
      "8        0.008976  1.410458e-03         0.116609    7.313582e-04   \n",
      "9        0.005321  1.247341e-03         0.109173    2.932207e-03   \n",
      "10       0.002327  4.683925e-04         0.105520    4.688418e-04   \n",
      "11       0.001663  4.766687e-04         0.106182    3.766376e-06   \n",
      "12       0.002001  8.218040e-04         0.111527    2.347278e-03   \n",
      "13       0.001330  4.617897e-04         0.110513    4.671820e-04   \n",
      "14       0.001990  9.947132e-06         0.113839    8.135409e-04   \n",
      "15       0.001994  1.070910e-05         0.115499    4.669088e-04   \n",
      "16       0.002318  1.232904e-03         0.104987    4.634468e-04   \n",
      "17       0.001994  1.123916e-07         0.104318    1.266589e-06   \n",
      "18       0.001995  1.946680e-07         0.104318    1.946680e-07   \n",
      "19       0.001662  4.700779e-04         0.104650    4.701340e-04   \n",
      "20       0.007970  1.598926e-05         0.117941    1.704852e-03   \n",
      "21       0.003988  8.120613e-04         0.112943    9.382458e-04   \n",
      "22       0.002993  3.017877e-06         0.114604    8.140059e-04   \n",
      "23       0.002328  4.636728e-04         0.114934    4.673311e-04   \n",
      "24       0.008973  1.626647e-03         0.119906    4.250156e-03   \n",
      "25       0.006981  2.155421e-03         0.114686    1.629859e-03   \n",
      "26       0.002326  4.701907e-04         0.113359    9.397062e-04   \n",
      "27       0.001330  4.695731e-04         0.114023    4.698536e-04   \n",
      "28       0.001981  8.251002e-04         0.106112    1.356905e-03   \n",
      "29       0.001339  4.828343e-04         0.104403    1.969047e-04   \n",
      "30       0.001662  4.696845e-04         0.105376    4.701341e-04   \n",
      "31       0.001997  9.602742e-07         0.105374    4.694623e-04   \n",
      "32       0.001993  8.160487e-04         0.105505    7.201580e-04   \n",
      "33       0.002002  1.045423e-05         0.104425    4.195703e-04   \n",
      "34       0.001662  4.704153e-04         0.104840    8.104673e-07   \n",
      "35       0.001986  6.750049e-06         0.105505    4.703588e-04   \n",
      "36       0.002333  4.791254e-04         0.105516    1.788993e-03   \n",
      "37       0.000987  1.181075e-05         0.105148    4.837737e-05   \n",
      "38       0.001995  3.893359e-07         0.104129    4.495664e-07   \n",
      "39       0.001330  4.704153e-04         0.104129    3.893359e-07   \n",
      "\n",
      "   param_n_neighbors               params  split0_test_score  \\\n",
      "0                  1   {'n_neighbors': 1}           0.948718   \n",
      "1                  2   {'n_neighbors': 2}           0.948718   \n",
      "2                  3   {'n_neighbors': 3}           0.923077   \n",
      "3                  4   {'n_neighbors': 4}           0.923077   \n",
      "4                  5   {'n_neighbors': 5}           0.923077   \n",
      "5                  6   {'n_neighbors': 6}           0.948718   \n",
      "6                  7   {'n_neighbors': 7}           0.948718   \n",
      "7                  8   {'n_neighbors': 8}           0.948718   \n",
      "8                  9   {'n_neighbors': 9}           0.923077   \n",
      "9                 10  {'n_neighbors': 10}           0.948718   \n",
      "10                11  {'n_neighbors': 11}           0.948718   \n",
      "11                12  {'n_neighbors': 12}           0.948718   \n",
      "12                13  {'n_neighbors': 13}           0.948718   \n",
      "13                14  {'n_neighbors': 14}           0.948718   \n",
      "14                15  {'n_neighbors': 15}           0.923077   \n",
      "15                16  {'n_neighbors': 16}           0.948718   \n",
      "16                17  {'n_neighbors': 17}           0.948718   \n",
      "17                18  {'n_neighbors': 18}           0.948718   \n",
      "18                19  {'n_neighbors': 19}           0.923077   \n",
      "19                20  {'n_neighbors': 20}           0.948718   \n",
      "20                21  {'n_neighbors': 21}           0.948718   \n",
      "21                22  {'n_neighbors': 22}           0.948718   \n",
      "22                23  {'n_neighbors': 23}           0.948718   \n",
      "23                24  {'n_neighbors': 24}           0.948718   \n",
      "24                25  {'n_neighbors': 25}           0.948718   \n",
      "25                26  {'n_neighbors': 26}           0.948718   \n",
      "26                27  {'n_neighbors': 27}           0.948718   \n",
      "27                28  {'n_neighbors': 28}           0.948718   \n",
      "28                29  {'n_neighbors': 29}           0.923077   \n",
      "29                30  {'n_neighbors': 30}           0.923077   \n",
      "30                31  {'n_neighbors': 31}           0.923077   \n",
      "31                32  {'n_neighbors': 32}           0.948718   \n",
      "32                33  {'n_neighbors': 33}           0.923077   \n",
      "33                34  {'n_neighbors': 34}           0.897436   \n",
      "34                35  {'n_neighbors': 35}           0.897436   \n",
      "35                36  {'n_neighbors': 36}           0.897436   \n",
      "36                37  {'n_neighbors': 37}           0.897436   \n",
      "37                38  {'n_neighbors': 38}           0.923077   \n",
      "38                39  {'n_neighbors': 39}           0.897436   \n",
      "39                40  {'n_neighbors': 40}           0.897436   \n",
      "\n",
      "    split1_test_score  split2_test_score  mean_test_score  std_test_score  \\\n",
      "0            0.945946           0.944444         0.946429        0.001780   \n",
      "1            0.918919           0.888889         0.919643        0.024465   \n",
      "2            0.945946           0.972222         0.946429        0.020095   \n",
      "3            0.891892           0.972222         0.928571        0.032671   \n",
      "4            0.891892           0.972222         0.928571        0.032671   \n",
      "5            0.891892           0.944444         0.928571        0.025822   \n",
      "6            0.972973           0.972222         0.964286        0.011383   \n",
      "7            0.945946           0.944444         0.946429        0.001780   \n",
      "8            0.972973           0.944444         0.946429        0.020589   \n",
      "9            0.972973           0.916667         0.946429        0.022788   \n",
      "10           0.972973           0.916667         0.946429        0.022788   \n",
      "11           0.945946           0.944444         0.946429        0.001780   \n",
      "12           0.972973           0.944444         0.955357        0.012496   \n",
      "13           0.945946           0.944444         0.946429        0.001780   \n",
      "14           0.945946           0.944444         0.937500        0.010560   \n",
      "15           0.972973           0.944444         0.955357        0.012496   \n",
      "16           0.945946           0.972222         0.955357        0.011663   \n",
      "17           0.891892           0.944444         0.928571        0.025822   \n",
      "18           0.918919           0.944444         0.928571        0.011058   \n",
      "19           0.918919           0.944444         0.937500        0.013167   \n",
      "20           0.918919           0.944444         0.937500        0.013167   \n",
      "21           0.918919           0.944444         0.937500        0.013167   \n",
      "22           0.945946           0.916667         0.937500        0.014384   \n",
      "23           0.918919           0.916667         0.928571        0.014754   \n",
      "24           0.945946           0.916667         0.937500        0.014384   \n",
      "25           0.918919           0.916667         0.928571        0.014754   \n",
      "26           0.918919           0.944444         0.937500        0.013167   \n",
      "27           0.918919           0.888889         0.919643        0.024465   \n",
      "28           0.972973           0.944444         0.946429        0.020589   \n",
      "29           0.918919           0.916667         0.919643        0.002670   \n",
      "30           0.918919           0.916667         0.919643        0.002670   \n",
      "31           0.891892           0.916667         0.919643        0.023487   \n",
      "32           0.891892           0.944444         0.919643        0.021360   \n",
      "33           0.891892           0.916667         0.901786        0.010493   \n",
      "34           0.864865           0.944444         0.901786        0.032278   \n",
      "35           0.891892           0.944444         0.910714        0.023327   \n",
      "36           0.864865           0.944444         0.901786        0.032278   \n",
      "37           0.864865           0.944444         0.910714        0.033367   \n",
      "38           0.891892           0.944444         0.910714        0.023327   \n",
      "39           0.864865           0.916667         0.892857        0.021175   \n",
      "\n",
      "    rank_test_score  split0_train_score  split1_train_score  \\\n",
      "0                 5            1.000000            1.000000   \n",
      "1                28            0.986301            0.960000   \n",
      "2                 5            0.972603            0.986667   \n",
      "3                21            0.986301            0.973333   \n",
      "4                21            0.972603            0.960000   \n",
      "5                21            0.986301            0.960000   \n",
      "6                 1            0.986301            0.973333   \n",
      "7                 5            0.972603            0.960000   \n",
      "8                 5            0.972603            0.946667   \n",
      "9                 5            0.958904            0.946667   \n",
      "10                5            0.945205            0.946667   \n",
      "11                5            0.945205            0.946667   \n",
      "12                2            0.945205            0.960000   \n",
      "13                5            0.972603            0.973333   \n",
      "14               14            0.958904            0.973333   \n",
      "15                2            0.958904            0.960000   \n",
      "16                2            0.958904            0.960000   \n",
      "17               21            0.972603            0.973333   \n",
      "18               21            0.958904            0.960000   \n",
      "19               14            0.958904            0.960000   \n",
      "20               14            0.958904            0.960000   \n",
      "21               14            0.945205            0.973333   \n",
      "22               14            0.958904            0.946667   \n",
      "23               21            0.958904            0.933333   \n",
      "24               14            0.945205            0.946667   \n",
      "25               21            0.945205            0.933333   \n",
      "26               14            0.972603            0.946667   \n",
      "27               28            0.958904            0.933333   \n",
      "28                5            0.958904            0.933333   \n",
      "29               28            0.931507            0.933333   \n",
      "30               28            0.945205            0.933333   \n",
      "31               28            0.917808            0.933333   \n",
      "32               28            0.917808            0.933333   \n",
      "33               37            0.876712            0.920000   \n",
      "34               37            0.876712            0.920000   \n",
      "35               34            0.876712            0.893333   \n",
      "36               37            0.876712            0.893333   \n",
      "37               34            0.876712            0.906667   \n",
      "38               34            0.876712            0.893333   \n",
      "39               40            0.890411            0.880000   \n",
      "\n",
      "    split2_train_score  mean_train_score  std_train_score  \n",
      "0             1.000000          1.000000         0.000000  \n",
      "1             0.973684          0.973329         0.010740  \n",
      "2             0.960526          0.973265         0.010682  \n",
      "3             0.960526          0.973387         0.010523  \n",
      "4             0.973684          0.968762         0.006212  \n",
      "5             0.947368          0.964557         0.016218  \n",
      "6             0.947368          0.969001         0.016187  \n",
      "7             0.934211          0.955604         0.015979  \n",
      "8             0.921053          0.946774         0.021045  \n",
      "9             0.921053          0.942208         0.015771  \n",
      "10            0.921053          0.937642         0.011745  \n",
      "11            0.934211          0.942028         0.005560  \n",
      "12            0.921053          0.942086         0.016052  \n",
      "13            0.947368          0.964435         0.012071  \n",
      "14            0.960526          0.964255         0.006454  \n",
      "15            0.947368          0.955424         0.005714  \n",
      "16            0.934211          0.951038         0.011907  \n",
      "17            0.960526          0.968821         0.005873  \n",
      "18            0.947368          0.955424         0.005714  \n",
      "19            0.960526          0.959810         0.000676  \n",
      "20            0.947368          0.955424         0.005714  \n",
      "21            0.934211          0.950916         0.016474  \n",
      "22            0.934211          0.946594         0.010081  \n",
      "23            0.921053          0.937763         0.015767  \n",
      "24            0.921053          0.937642         0.011745  \n",
      "25            0.907895          0.928811         0.015564  \n",
      "26            0.934211          0.951160         0.015992  \n",
      "27            0.907895          0.933377         0.020825  \n",
      "28            0.921053          0.937763         0.015767  \n",
      "29            0.921053          0.928631         0.005410  \n",
      "30            0.907895          0.928811         0.015564  \n",
      "31            0.907895          0.919679         0.010469  \n",
      "32            0.907895          0.919679         0.010469  \n",
      "33            0.921053          0.905922         0.020659  \n",
      "34            0.934211          0.910308         0.024454  \n",
      "35            0.934211          0.901419         0.024160  \n",
      "36            0.921053          0.897033         0.018290  \n",
      "37            0.921053          0.901477         0.018470  \n",
      "38            0.921053          0.897033         0.018290  \n",
      "39            0.921053          0.897155         0.017425  \n"
     ]
    },
    {
     "name": "stderr",
     "output_type": "stream",
     "text": [
      "C:\\ProgramData\\Anaconda3\\lib\\site-packages\\sklearn\\utils\\deprecation.py:125: FutureWarning: You are accessing a training score ('split0_train_score'), which will not be available by default any more in 0.21. If you need training scores, please set return_train_score=True\n",
      "  warnings.warn(*warn_args, **warn_kwargs)\n",
      "C:\\ProgramData\\Anaconda3\\lib\\site-packages\\sklearn\\utils\\deprecation.py:125: FutureWarning: You are accessing a training score ('split1_train_score'), which will not be available by default any more in 0.21. If you need training scores, please set return_train_score=True\n",
      "  warnings.warn(*warn_args, **warn_kwargs)\n",
      "C:\\ProgramData\\Anaconda3\\lib\\site-packages\\sklearn\\utils\\deprecation.py:125: FutureWarning: You are accessing a training score ('split2_train_score'), which will not be available by default any more in 0.21. If you need training scores, please set return_train_score=True\n",
      "  warnings.warn(*warn_args, **warn_kwargs)\n",
      "C:\\ProgramData\\Anaconda3\\lib\\site-packages\\sklearn\\utils\\deprecation.py:125: FutureWarning: You are accessing a training score ('mean_train_score'), which will not be available by default any more in 0.21. If you need training scores, please set return_train_score=True\n",
      "  warnings.warn(*warn_args, **warn_kwargs)\n",
      "C:\\ProgramData\\Anaconda3\\lib\\site-packages\\sklearn\\utils\\deprecation.py:125: FutureWarning: You are accessing a training score ('std_train_score'), which will not be available by default any more in 0.21. If you need training scores, please set return_train_score=True\n",
      "  warnings.warn(*warn_args, **warn_kwargs)\n"
     ]
    }
   ],
   "source": [
    "print(pd.DataFrame(grid.cv_results_))"
   ]
  },
  {
   "cell_type": "code",
   "execution_count": 8,
   "metadata": {},
   "outputs": [
    {
     "data": {
      "text/plain": [
       "{'n_neighbors': 7}"
      ]
     },
     "execution_count": 8,
     "metadata": {},
     "output_type": "execute_result"
    }
   ],
   "source": [
    "grid.best_params_"
   ]
  },
  {
   "cell_type": "code",
   "execution_count": 9,
   "metadata": {},
   "outputs": [],
   "source": [
    "classificator = KNeighborsClassifier(n_neighbors= 10, n_jobs= -1)\n",
    "classificator.fit(trainX, trainY)\n",
    "predict = classificator.predict(testX)"
   ]
  },
  {
   "cell_type": "code",
   "execution_count": 10,
   "metadata": {},
   "outputs": [
    {
     "name": "stdout",
     "output_type": "stream",
     "text": [
      "[[12  0  0]\n",
      " [ 0 13  0]\n",
      " [ 0  0 13]]\n",
      "                 precision    recall  f1-score   support\n",
      "\n",
      "    Iris-setosa       1.00      1.00      1.00        12\n",
      "Iris-versicolor       1.00      1.00      1.00        13\n",
      " Iris-virginica       1.00      1.00      1.00        13\n",
      "\n",
      "      micro avg       1.00      1.00      1.00        38\n",
      "      macro avg       1.00      1.00      1.00        38\n",
      "   weighted avg       1.00      1.00      1.00        38\n",
      "\n"
     ]
    }
   ],
   "source": [
    "print(confusion_matrix(testY, predict))\n",
    "print(classification_report(testY, predict))"
   ]
  },
  {
   "cell_type": "code",
   "execution_count": 11,
   "metadata": {},
   "outputs": [],
   "source": [
    "trainX, testX, trainY, testY = train_test_split(iris.drop(['Species', 'SepalWidthCm', 'SepalLengthCm'], axis =1), iris.Species, test_size= 0.25, \n",
    "                                                stratify = iris['Species'])"
   ]
  },
  {
   "cell_type": "code",
   "execution_count": 12,
   "metadata": {
    "scrolled": true
   },
   "outputs": [
    {
     "name": "stdout",
     "output_type": "stream",
     "text": [
      "[[13  0  0]\n",
      " [ 0 11  1]\n",
      " [ 0  1 12]]\n",
      "                 precision    recall  f1-score   support\n",
      "\n",
      "    Iris-setosa       1.00      1.00      1.00        13\n",
      "Iris-versicolor       0.92      0.92      0.92        12\n",
      " Iris-virginica       0.92      0.92      0.92        13\n",
      "\n",
      "      micro avg       0.95      0.95      0.95        38\n",
      "      macro avg       0.95      0.95      0.95        38\n",
      "   weighted avg       0.95      0.95      0.95        38\n",
      "\n"
     ]
    }
   ],
   "source": [
    "classificator = KNeighborsClassifier(n_neighbors= 10, n_jobs= -1)\n",
    "classificator.fit(trainX, trainY)\n",
    "predict = classificator.predict(testX)\n",
    "print(confusion_matrix(testY, predict))\n",
    "print(classification_report(testY, predict))"
   ]
  },
  {
   "cell_type": "code",
   "execution_count": 13,
   "metadata": {},
   "outputs": [],
   "source": [
    "XC = iris.drop(['Species'], axis = 1) #X completo\n",
    "XP = iris.drop(['SepalLengthCm', 'SepalWidthCm', 'Species'], axis=1) #X Parcial\n",
    "Y = iris['Species']"
   ]
  },
  {
   "cell_type": "code",
   "execution_count": 14,
   "metadata": {},
   "outputs": [],
   "source": [
    "from sklearn.model_selection import cross_val_score"
   ]
  },
  {
   "cell_type": "code",
   "execution_count": 15,
   "metadata": {},
   "outputs": [
    {
     "name": "stdout",
     "output_type": "stream",
     "text": [
      "[0.96666667 1.         1.         0.93333333 1.        ]\n"
     ]
    }
   ],
   "source": [
    "KNN = KNeighborsClassifier(n_neighbors= 10, n_jobs= -1)\n",
    "score = cross_val_score(KNN, XC, Y, cv=5)\n",
    "print(score)"
   ]
  },
  {
   "cell_type": "code",
   "execution_count": 16,
   "metadata": {},
   "outputs": [
    {
     "name": "stdout",
     "output_type": "stream",
     "text": [
      "A acuracia da Iris com todos atributos tem:\n",
      "Média: 0.98 e Desvio Padrão de +/-: 0.03\n"
     ]
    }
   ],
   "source": [
    "print('A acuracia da Iris com todos atributos tem:')\n",
    "print('Média: %0.2f e Desvio Padrão de +/-: %0.2f' % (np.mean(score), np.std(score)))"
   ]
  },
  {
   "cell_type": "code",
   "execution_count": 17,
   "metadata": {},
   "outputs": [
    {
     "name": "stdout",
     "output_type": "stream",
     "text": [
      "[0.96666667 0.96666667 0.93333333 0.96666667 1.        ]\n"
     ]
    }
   ],
   "source": [
    "KNN = KNeighborsClassifier(n_neighbors= 10, n_jobs= -1)\n",
    "score = cross_val_score(KNN, XP, Y, cv=5)\n",
    "print(score)"
   ]
  },
  {
   "cell_type": "code",
   "execution_count": 18,
   "metadata": {},
   "outputs": [
    {
     "name": "stdout",
     "output_type": "stream",
     "text": [
      "A acuracia da Iris só com atributo da Petalas tem:\n",
      "Média: 0.97 e Desvio Padrão de +/-: 0.02\n"
     ]
    }
   ],
   "source": [
    "print('A acuracia da Iris só com atributo da Petalas tem:')\n",
    "print('Média: %0.2f e Desvio Padrão de +/-: %0.2f' % (np.mean(score), np.std(score)))"
   ]
  }
 ],
 "metadata": {
  "kernelspec": {
   "display_name": "Python 3",
   "language": "python",
   "name": "python3"
  },
  "language_info": {
   "codemirror_mode": {
    "name": "ipython",
    "version": 3
   },
   "file_extension": ".py",
   "mimetype": "text/x-python",
   "name": "python",
   "nbconvert_exporter": "python",
   "pygments_lexer": "ipython3",
   "version": "3.6.8"
  }
 },
 "nbformat": 4,
 "nbformat_minor": 2
}
