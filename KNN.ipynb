{
 "cells": [
  {
   "cell_type": "code",
   "execution_count": 1,
   "metadata": {},
   "outputs": [
    {
     "name": "stderr",
     "output_type": "stream",
     "text": [
      "C:\\ProgramData\\Anaconda3\\lib\\importlib\\_bootstrap.py:219: RuntimeWarning: numpy.ufunc size changed, may indicate binary incompatibility. Expected 192 from C header, got 216 from PyObject\n",
      "  return f(*args, **kwds)\n",
      "C:\\ProgramData\\Anaconda3\\lib\\importlib\\_bootstrap.py:219: RuntimeWarning: numpy.ufunc size changed, may indicate binary incompatibility. Expected 192 from C header, got 216 from PyObject\n",
      "  return f(*args, **kwds)\n"
     ]
    }
   ],
   "source": [
    "import numpy as np\n",
    "import pandas as pd\n",
    "from sklearn.neighbors import KNeighborsClassifier\n",
    "from sklearn.model_selection import train_test_split\n",
    "from sklearn.metrics import accuracy_score, confusion_matrix, classification_report\n",
    "import matplotlib.pyplot as plt\n",
    "from sklearn.model_selection import GridSearchCV"
   ]
  },
  {
   "cell_type": "code",
   "execution_count": 2,
   "metadata": {},
   "outputs": [
    {
     "data": {
      "text/html": [
       "<div>\n",
       "<style scoped>\n",
       "    .dataframe tbody tr th:only-of-type {\n",
       "        vertical-align: middle;\n",
       "    }\n",
       "\n",
       "    .dataframe tbody tr th {\n",
       "        vertical-align: top;\n",
       "    }\n",
       "\n",
       "    .dataframe thead th {\n",
       "        text-align: right;\n",
       "    }\n",
       "</style>\n",
       "<table border=\"1\" class=\"dataframe\">\n",
       "  <thead>\n",
       "    <tr style=\"text-align: right;\">\n",
       "      <th></th>\n",
       "      <th>SepalLengthCm</th>\n",
       "      <th>SepalWidthCm</th>\n",
       "      <th>PetalLengthCm</th>\n",
       "      <th>PetalWidthCm</th>\n",
       "      <th>Species</th>\n",
       "    </tr>\n",
       "  </thead>\n",
       "  <tbody>\n",
       "    <tr>\n",
       "      <th>0</th>\n",
       "      <td>5.1</td>\n",
       "      <td>3.5</td>\n",
       "      <td>1.4</td>\n",
       "      <td>0.2</td>\n",
       "      <td>Iris-setosa</td>\n",
       "    </tr>\n",
       "    <tr>\n",
       "      <th>1</th>\n",
       "      <td>4.9</td>\n",
       "      <td>3.0</td>\n",
       "      <td>1.4</td>\n",
       "      <td>0.2</td>\n",
       "      <td>Iris-setosa</td>\n",
       "    </tr>\n",
       "    <tr>\n",
       "      <th>2</th>\n",
       "      <td>4.7</td>\n",
       "      <td>3.2</td>\n",
       "      <td>1.3</td>\n",
       "      <td>0.2</td>\n",
       "      <td>Iris-setosa</td>\n",
       "    </tr>\n",
       "    <tr>\n",
       "      <th>3</th>\n",
       "      <td>4.6</td>\n",
       "      <td>3.1</td>\n",
       "      <td>1.5</td>\n",
       "      <td>0.2</td>\n",
       "      <td>Iris-setosa</td>\n",
       "    </tr>\n",
       "    <tr>\n",
       "      <th>4</th>\n",
       "      <td>5.0</td>\n",
       "      <td>3.6</td>\n",
       "      <td>1.4</td>\n",
       "      <td>0.2</td>\n",
       "      <td>Iris-setosa</td>\n",
       "    </tr>\n",
       "  </tbody>\n",
       "</table>\n",
       "</div>"
      ],
      "text/plain": [
       "   SepalLengthCm  SepalWidthCm  PetalLengthCm  PetalWidthCm      Species\n",
       "0            5.1           3.5            1.4           0.2  Iris-setosa\n",
       "1            4.9           3.0            1.4           0.2  Iris-setosa\n",
       "2            4.7           3.2            1.3           0.2  Iris-setosa\n",
       "3            4.6           3.1            1.5           0.2  Iris-setosa\n",
       "4            5.0           3.6            1.4           0.2  Iris-setosa"
      ]
     },
     "execution_count": 2,
     "metadata": {},
     "output_type": "execute_result"
    }
   ],
   "source": [
    "iris = pd.read_csv('Iris.csv')\n",
    "iris.drop(['Id'], axis = 1, inplace = True)\n",
    "iris.head()"
   ]
  },
  {
   "cell_type": "code",
   "execution_count": 3,
   "metadata": {},
   "outputs": [],
   "source": [
    "trainX, testX, trainY, testY = train_test_split(iris.drop(['Species'], axis =1), iris.Species, test_size= 0.25, \n",
    "                                                stratify = iris['Species'])"
   ]
  },
  {
   "cell_type": "code",
   "execution_count": 9,
   "metadata": {},
   "outputs": [],
   "source": [
    "parameters_test = {\n",
    "    'n_neighbors':list(range(1, 41))\n",
    "}"
   ]
  },
  {
   "cell_type": "code",
   "execution_count": 10,
   "metadata": {},
   "outputs": [],
   "source": [
    "classificator = KNeighborsClassifier(n_jobs= -1)\n",
    "grid = GridSearchCV(classificator, parameters_test, scoring= 'accuracy', n_jobs=-1)"
   ]
  },
  {
   "cell_type": "code",
   "execution_count": 11,
   "metadata": {},
   "outputs": [
    {
     "name": "stderr",
     "output_type": "stream",
     "text": [
      "C:\\ProgramData\\Anaconda3\\lib\\site-packages\\sklearn\\model_selection\\_split.py:2053: FutureWarning: You should specify a value for 'cv' instead of relying on the default value. The default value will change from 3 to 5 in version 0.22.\n",
      "  warnings.warn(CV_WARNING, FutureWarning)\n"
     ]
    },
    {
     "data": {
      "text/plain": [
       "GridSearchCV(cv='warn', error_score='raise-deprecating',\n",
       "       estimator=KNeighborsClassifier(algorithm='auto', leaf_size=30, metric='minkowski',\n",
       "           metric_params=None, n_jobs=-1, n_neighbors=5, p=2,\n",
       "           weights='uniform'),\n",
       "       fit_params=None, iid='warn', n_jobs=-1,\n",
       "       param_grid={'n_neighbors': [1, 2, 3, 4, 5, 6, 7, 8, 9, 10, 11, 12, 13, 14, 15, 16, 17, 18, 19, 20, 21, 22, 23, 24, 25, 26, 27, 28, 29, 30, 31, 32, 33, 34, 35, 36, 37, 38, 39, 40]},\n",
       "       pre_dispatch='2*n_jobs', refit=True, return_train_score='warn',\n",
       "       scoring='accuracy', verbose=0)"
      ]
     },
     "execution_count": 11,
     "metadata": {},
     "output_type": "execute_result"
    }
   ],
   "source": [
    "grid.fit(trainX, trainY)"
   ]
  },
  {
   "cell_type": "code",
   "execution_count": 12,
   "metadata": {},
   "outputs": [
    {
     "name": "stdout",
     "output_type": "stream",
     "text": [
      "    mean_fit_time  std_fit_time  mean_score_time  std_score_time  \\\n",
      "0        0.002992  0.000000e+00         0.118207    1.244559e-03   \n",
      "1        0.002992  0.000000e+00         0.118207    2.488310e-03   \n",
      "2        0.002992  0.000000e+00         0.117210    4.706960e-04   \n",
      "3        0.002992  0.000000e+00         0.120867    4.179218e-03   \n",
      "4        0.002327  4.700779e-04         0.104678    4.766835e-04   \n",
      "5        0.001995  6.836514e-07         0.105004    6.072267e-06   \n",
      "6        0.001995  6.836514e-07         0.105332    4.695722e-04   \n",
      "7        0.001329  4.705838e-04         0.105000    8.146855e-04   \n",
      "8        0.001330  4.699657e-04         0.104747    4.700787e-04   \n",
      "9        0.001995  7.867412e-07         0.104747    4.708646e-04   \n",
      "10       0.002327  4.699660e-04         0.105411    4.704151e-04   \n",
      "11       0.001662  4.705274e-04         0.104747    4.705837e-04   \n",
      "12       0.001662  4.701351e-04         0.105246    1.051267e-05   \n",
      "13       0.001662  4.702465e-04         0.105238    1.946680e-07   \n",
      "14       0.001995  3.371748e-07         0.105903    4.704716e-04   \n",
      "15       0.001995  1.946680e-07         0.104905    4.701905e-04   \n",
      "16       0.001662  4.699096e-04         0.104610    4.495664e-07   \n",
      "17       0.001995  2.247832e-07         0.104944    4.704151e-04   \n",
      "18       0.001662  4.701341e-04         0.105276    4.699655e-04   \n",
      "19       0.001995  7.867412e-07         0.104610    3.893359e-07   \n",
      "20       0.001988  8.146408e-04         0.107534    1.414673e-03   \n",
      "21       0.001662  4.697412e-04         0.105868    4.696851e-04   \n",
      "22       0.001995  8.150755e-04         0.105535    7.867412e-07   \n",
      "23       0.002329  4.692940e-04         0.105199    4.708743e-04   \n",
      "24       0.001330  4.704150e-04         0.106924    4.744506e-04   \n",
      "25       0.001663  4.696283e-04         0.107238    4.710335e-04   \n",
      "26       0.001662  4.703034e-04         0.105575    5.947204e-07   \n",
      "27       0.001662  4.703026e-04         0.104911    4.708647e-04   \n",
      "28       0.001662  4.694603e-04         0.105169    8.052640e-04   \n",
      "29       0.001662  4.701903e-04         0.105162    6.836514e-07   \n",
      "30       0.001662  4.700779e-04         0.104830    4.695721e-04   \n",
      "31       0.001330  4.707525e-04         0.104497    4.703026e-04   \n",
      "32       0.001986  1.219798e-05         0.105230    2.247832e-07   \n",
      "33       0.001995  7.370010e-07         0.105230    7.018853e-07   \n",
      "34       0.002326  4.700220e-04         0.104898    4.704151e-04   \n",
      "35       0.001662  4.704153e-04         0.104898    4.700779e-04   \n",
      "36       0.001662  4.696845e-04         0.104778    4.695725e-04   \n",
      "37       0.001330  4.705838e-04         0.105442    4.702464e-04   \n",
      "38       0.001662  4.705837e-04         0.104778    4.695164e-04   \n",
      "39       0.001662  4.697409e-04         0.104113    6.257699e-07   \n",
      "\n",
      "   param_n_neighbors               params  split0_test_score  \\\n",
      "0                  1   {'n_neighbors': 1}           0.974359   \n",
      "1                  2   {'n_neighbors': 2}           0.974359   \n",
      "2                  3   {'n_neighbors': 3}           0.974359   \n",
      "3                  4   {'n_neighbors': 4}           0.974359   \n",
      "4                  5   {'n_neighbors': 5}           0.974359   \n",
      "5                  6   {'n_neighbors': 6}           0.948718   \n",
      "6                  7   {'n_neighbors': 7}           0.974359   \n",
      "7                  8   {'n_neighbors': 8}           0.974359   \n",
      "8                  9   {'n_neighbors': 9}           0.948718   \n",
      "9                 10  {'n_neighbors': 10}           0.974359   \n",
      "10                11  {'n_neighbors': 11}           0.948718   \n",
      "11                12  {'n_neighbors': 12}           0.974359   \n",
      "12                13  {'n_neighbors': 13}           0.948718   \n",
      "13                14  {'n_neighbors': 14}           0.948718   \n",
      "14                15  {'n_neighbors': 15}           0.948718   \n",
      "15                16  {'n_neighbors': 16}           0.948718   \n",
      "16                17  {'n_neighbors': 17}           0.948718   \n",
      "17                18  {'n_neighbors': 18}           0.948718   \n",
      "18                19  {'n_neighbors': 19}           0.974359   \n",
      "19                20  {'n_neighbors': 20}           0.974359   \n",
      "20                21  {'n_neighbors': 21}           0.948718   \n",
      "21                22  {'n_neighbors': 22}           0.974359   \n",
      "22                23  {'n_neighbors': 23}           0.948718   \n",
      "23                24  {'n_neighbors': 24}           0.948718   \n",
      "24                25  {'n_neighbors': 25}           0.948718   \n",
      "25                26  {'n_neighbors': 26}           0.948718   \n",
      "26                27  {'n_neighbors': 27}           0.948718   \n",
      "27                28  {'n_neighbors': 28}           0.948718   \n",
      "28                29  {'n_neighbors': 29}           0.948718   \n",
      "29                30  {'n_neighbors': 30}           0.923077   \n",
      "30                31  {'n_neighbors': 31}           0.897436   \n",
      "31                32  {'n_neighbors': 32}           0.897436   \n",
      "32                33  {'n_neighbors': 33}           0.897436   \n",
      "33                34  {'n_neighbors': 34}           0.871795   \n",
      "34                35  {'n_neighbors': 35}           0.923077   \n",
      "35                36  {'n_neighbors': 36}           0.897436   \n",
      "36                37  {'n_neighbors': 37}           0.923077   \n",
      "37                38  {'n_neighbors': 38}           0.897436   \n",
      "38                39  {'n_neighbors': 39}           0.871795   \n",
      "39                40  {'n_neighbors': 40}           0.871795   \n",
      "\n",
      "    split1_test_score  split2_test_score  mean_test_score  std_test_score  \\\n",
      "0            0.945946           0.916667         0.946429        0.023589   \n",
      "1            0.918919           0.916667         0.937500        0.026956   \n",
      "2            0.945946           0.944444         0.955357        0.013902   \n",
      "3            0.918919           0.944444         0.946429        0.022867   \n",
      "4            0.972973           0.916667         0.955357        0.026635   \n",
      "5            0.945946           0.916667         0.937500        0.014384   \n",
      "6            0.972973           0.916667         0.955357        0.026635   \n",
      "7            0.945946           0.916667         0.946429        0.023589   \n",
      "8            0.945946           0.916667         0.937500        0.014384   \n",
      "9            0.945946           0.972222         0.964286        0.012911   \n",
      "10           0.972973           0.944444         0.955357        0.012496   \n",
      "11           0.972973           0.944444         0.964286        0.013668   \n",
      "12           0.972973           0.944444         0.955357        0.012496   \n",
      "13           0.945946           0.944444         0.946429        0.001780   \n",
      "14           0.945946           0.916667         0.937500        0.014384   \n",
      "15           0.945946           0.916667         0.937500        0.014384   \n",
      "16           0.945946           0.916667         0.937500        0.014384   \n",
      "17           0.945946           0.916667         0.937500        0.014384   \n",
      "18           0.945946           0.916667         0.946429        0.023589   \n",
      "19           0.945946           0.916667         0.946429        0.023589   \n",
      "20           0.945946           0.916667         0.937500        0.014384   \n",
      "21           0.945946           0.916667         0.946429        0.023589   \n",
      "22           0.945946           0.916667         0.937500        0.014384   \n",
      "23           0.945946           0.916667         0.937500        0.014384   \n",
      "24           0.972973           0.916667         0.946429        0.022788   \n",
      "25           0.891892           0.916667         0.919643        0.023487   \n",
      "26           0.918919           0.916667         0.928571        0.014754   \n",
      "27           0.918919           0.916667         0.928571        0.014754   \n",
      "28           0.918919           0.916667         0.928571        0.014754   \n",
      "29           0.945946           0.916667         0.928571        0.012482   \n",
      "30           0.945946           0.888889         0.910714        0.024991   \n",
      "31           0.918919           0.888889         0.901786        0.012531   \n",
      "32           0.918919           0.888889         0.901786        0.012531   \n",
      "33           0.891892           0.888889         0.883929        0.008951   \n",
      "34           0.864865           0.888889         0.892857        0.024123   \n",
      "35           0.864865           0.916667         0.892857        0.021175   \n",
      "36           0.891892           0.888889         0.901786        0.015609   \n",
      "37           0.891892           0.916667         0.901786        0.010493   \n",
      "38           0.864865           0.888889         0.875000        0.009976   \n",
      "39           0.837838           0.916667         0.875000        0.031904   \n",
      "\n",
      "    rank_test_score  split0_train_score  split1_train_score  \\\n",
      "0                 8            1.000000            1.000000   \n",
      "1                16            0.958904            0.973333   \n",
      "2                 3            0.958904            0.973333   \n",
      "3                 8            0.958904            0.960000   \n",
      "4                 3            0.945205            0.946667   \n",
      "5                16            0.945205            0.960000   \n",
      "6                 3            0.972603            0.960000   \n",
      "7                 8            0.958904            0.946667   \n",
      "8                16            0.972603            0.946667   \n",
      "9                 1            0.972603            0.933333   \n",
      "10                3            0.958904            0.946667   \n",
      "11                1            0.972603            0.933333   \n",
      "12                3            0.958904            0.920000   \n",
      "13                8            0.945205            0.946667   \n",
      "14               16            0.945205            0.933333   \n",
      "15               16            0.945205            0.933333   \n",
      "16               16            0.931507            0.920000   \n",
      "17               16            0.931507            0.920000   \n",
      "18                8            0.945205            0.933333   \n",
      "19                8            0.945205            0.946667   \n",
      "20               16            0.917808            0.933333   \n",
      "21                8            0.931507            0.946667   \n",
      "22               16            0.917808            0.933333   \n",
      "23               16            0.931507            0.933333   \n",
      "24                8            0.917808            0.933333   \n",
      "25               30            0.917808            0.920000   \n",
      "26               26            0.917808            0.920000   \n",
      "27               26            0.917808            0.920000   \n",
      "28               26            0.917808            0.906667   \n",
      "29               26            0.917808            0.920000   \n",
      "30               31            0.917808            0.920000   \n",
      "31               32            0.917808            0.906667   \n",
      "32               32            0.917808            0.906667   \n",
      "33               38            0.917808            0.893333   \n",
      "34               36            0.917808            0.906667   \n",
      "35               36            0.904110            0.880000   \n",
      "36               32            0.917808            0.893333   \n",
      "37               32            0.890411            0.880000   \n",
      "38               39            0.904110            0.880000   \n",
      "39               39            0.890411            0.866667   \n",
      "\n",
      "    split2_train_score  mean_train_score  std_train_score  \n",
      "0             1.000000          1.000000         0.000000  \n",
      "1             0.986842          0.973027         0.011408  \n",
      "2             0.986842          0.973027         0.011408  \n",
      "3             0.973684          0.964196         0.006724  \n",
      "4             0.986842          0.959571         0.019293  \n",
      "5             0.973684          0.959630         0.011629  \n",
      "6             0.986842          0.973148         0.010965  \n",
      "7             0.986842          0.964138         0.016814  \n",
      "8             0.986842          0.968704         0.016632  \n",
      "9             0.986842          0.964259         0.022628  \n",
      "10            0.986842          0.964138         0.016814  \n",
      "11            0.986842          0.964259         0.022628  \n",
      "12            0.986842          0.955249         0.027410  \n",
      "13            0.986842          0.959571         0.019293  \n",
      "14            0.986842          0.955127         0.022944  \n",
      "15            0.986842          0.955127         0.022944  \n",
      "16            0.986842          0.946116         0.029178  \n",
      "17            0.986842          0.946116         0.029178  \n",
      "18            0.973684          0.950741         0.016932  \n",
      "19            0.960526          0.950799         0.006904  \n",
      "20            0.947368          0.932837         0.012073  \n",
      "21            0.947368          0.941847         0.007317  \n",
      "22            0.947368          0.932837         0.012073  \n",
      "23            0.973684          0.946175         0.019466  \n",
      "24            0.947368          0.932837         0.012073  \n",
      "25            0.947368          0.928392         0.013448  \n",
      "26            0.947368          0.928392         0.013448  \n",
      "27            0.947368          0.928392         0.013448  \n",
      "28            0.947368          0.923948         0.017174  \n",
      "29            0.947368          0.928392         0.013448  \n",
      "30            0.947368          0.928392         0.013448  \n",
      "31            0.947368          0.923948         0.017174  \n",
      "32            0.934211          0.919562         0.011313  \n",
      "33            0.907895          0.906345         0.010052  \n",
      "34            0.921053          0.915176         0.006161  \n",
      "35            0.921053          0.901721         0.016845  \n",
      "36            0.921053          0.910731         0.012373  \n",
      "37            0.907895          0.892769         0.011509  \n",
      "38            0.907895          0.897335         0.012355  \n",
      "39            0.894737          0.883938         0.012340  \n"
     ]
    },
    {
     "name": "stderr",
     "output_type": "stream",
     "text": [
      "C:\\ProgramData\\Anaconda3\\lib\\site-packages\\sklearn\\utils\\deprecation.py:125: FutureWarning: You are accessing a training score ('split0_train_score'), which will not be available by default any more in 0.21. If you need training scores, please set return_train_score=True\n",
      "  warnings.warn(*warn_args, **warn_kwargs)\n",
      "C:\\ProgramData\\Anaconda3\\lib\\site-packages\\sklearn\\utils\\deprecation.py:125: FutureWarning: You are accessing a training score ('split1_train_score'), which will not be available by default any more in 0.21. If you need training scores, please set return_train_score=True\n",
      "  warnings.warn(*warn_args, **warn_kwargs)\n",
      "C:\\ProgramData\\Anaconda3\\lib\\site-packages\\sklearn\\utils\\deprecation.py:125: FutureWarning: You are accessing a training score ('split2_train_score'), which will not be available by default any more in 0.21. If you need training scores, please set return_train_score=True\n",
      "  warnings.warn(*warn_args, **warn_kwargs)\n",
      "C:\\ProgramData\\Anaconda3\\lib\\site-packages\\sklearn\\utils\\deprecation.py:125: FutureWarning: You are accessing a training score ('mean_train_score'), which will not be available by default any more in 0.21. If you need training scores, please set return_train_score=True\n",
      "  warnings.warn(*warn_args, **warn_kwargs)\n",
      "C:\\ProgramData\\Anaconda3\\lib\\site-packages\\sklearn\\utils\\deprecation.py:125: FutureWarning: You are accessing a training score ('std_train_score'), which will not be available by default any more in 0.21. If you need training scores, please set return_train_score=True\n",
      "  warnings.warn(*warn_args, **warn_kwargs)\n"
     ]
    }
   ],
   "source": [
    "print(pd.DataFrame(grid.cv_results_))"
   ]
  },
  {
   "cell_type": "code",
   "execution_count": 13,
   "metadata": {},
   "outputs": [
    {
     "data": {
      "text/plain": [
       "{'n_neighbors': 10}"
      ]
     },
     "execution_count": 13,
     "metadata": {},
     "output_type": "execute_result"
    }
   ],
   "source": [
    "grid.best_params_"
   ]
  },
  {
   "cell_type": "code",
   "execution_count": 14,
   "metadata": {},
   "outputs": [],
   "source": [
    "classificator = KNeighborsClassifier(n_neighbors= 10, n_jobs= -1)\n",
    "classificator.fit(trainX, trainY)\n",
    "predict = classificator.predict(testX)"
   ]
  },
  {
   "cell_type": "code",
   "execution_count": 15,
   "metadata": {},
   "outputs": [
    {
     "name": "stdout",
     "output_type": "stream",
     "text": [
      "[[13  0  0]\n",
      " [ 0 13  0]\n",
      " [ 0  0 12]]\n",
      "                 precision    recall  f1-score   support\n",
      "\n",
      "    Iris-setosa       1.00      1.00      1.00        13\n",
      "Iris-versicolor       1.00      1.00      1.00        13\n",
      " Iris-virginica       1.00      1.00      1.00        12\n",
      "\n",
      "      micro avg       1.00      1.00      1.00        38\n",
      "      macro avg       1.00      1.00      1.00        38\n",
      "   weighted avg       1.00      1.00      1.00        38\n",
      "\n"
     ]
    }
   ],
   "source": [
    "print(confusion_matrix(testY, predict))\n",
    "print(classification_report(testY, predict))"
   ]
  },
  {
   "cell_type": "code",
   "execution_count": 16,
   "metadata": {},
   "outputs": [],
   "source": [
    "trainX, testX, trainY, testY = train_test_split(iris.drop(['Species', 'SepalWidthCm', 'SepalLengthCm'], axis =1), iris.Species, test_size= 0.25, \n",
    "                                                stratify = iris['Species'])"
   ]
  },
  {
   "cell_type": "code",
   "execution_count": 17,
   "metadata": {},
   "outputs": [
    {
     "name": "stdout",
     "output_type": "stream",
     "text": [
      "[[13  0  0]\n",
      " [ 0 13  0]\n",
      " [ 0  0 12]]\n",
      "                 precision    recall  f1-score   support\n",
      "\n",
      "    Iris-setosa       1.00      1.00      1.00        13\n",
      "Iris-versicolor       1.00      1.00      1.00        13\n",
      " Iris-virginica       1.00      1.00      1.00        12\n",
      "\n",
      "      micro avg       1.00      1.00      1.00        38\n",
      "      macro avg       1.00      1.00      1.00        38\n",
      "   weighted avg       1.00      1.00      1.00        38\n",
      "\n"
     ]
    }
   ],
   "source": [
    "classificator = KNeighborsClassifier(n_neighbors= 10, n_jobs= -1)\n",
    "classificator.fit(trainX, trainY)\n",
    "predict = classificator.predict(testX)\n",
    "print(confusion_matrix(testY, predict))\n",
    "print(classification_report(testY, predict))"
   ]
  }
 ],
 "metadata": {
  "kernelspec": {
   "display_name": "Python 3",
   "language": "python",
   "name": "python3"
  },
  "language_info": {
   "codemirror_mode": {
    "name": "ipython",
    "version": 3
   },
   "file_extension": ".py",
   "mimetype": "text/x-python",
   "name": "python",
   "nbconvert_exporter": "python",
   "pygments_lexer": "ipython3",
   "version": "3.6.8"
  }
 },
 "nbformat": 4,
 "nbformat_minor": 2
}
