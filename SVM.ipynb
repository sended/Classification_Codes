{
 "cells": [
  {
   "cell_type": "code",
   "execution_count": 1,
   "metadata": {},
   "outputs": [
    {
     "name": "stderr",
     "output_type": "stream",
     "text": [
      "C:\\ProgramData\\Anaconda3\\lib\\importlib\\_bootstrap.py:219: RuntimeWarning: numpy.ufunc size changed, may indicate binary incompatibility. Expected 192 from C header, got 216 from PyObject\n",
      "  return f(*args, **kwds)\n",
      "C:\\ProgramData\\Anaconda3\\lib\\importlib\\_bootstrap.py:219: RuntimeWarning: numpy.ufunc size changed, may indicate binary incompatibility. Expected 192 from C header, got 216 from PyObject\n",
      "  return f(*args, **kwds)\n"
     ]
    }
   ],
   "source": [
    "import numpy as np\n",
    "import pandas as pd\n",
    "from sklearn.svm import SVC\n",
    "from sklearn.model_selection import train_test_split\n",
    "from sklearn.metrics import accuracy_score, confusion_matrix, classification_report\n",
    "import matplotlib.pyplot as plt\n",
    "from sklearn.model_selection import GridSearchCV"
   ]
  },
  {
   "cell_type": "code",
   "execution_count": 2,
   "metadata": {},
   "outputs": [
    {
     "data": {
      "text/html": [
       "<div>\n",
       "<style scoped>\n",
       "    .dataframe tbody tr th:only-of-type {\n",
       "        vertical-align: middle;\n",
       "    }\n",
       "\n",
       "    .dataframe tbody tr th {\n",
       "        vertical-align: top;\n",
       "    }\n",
       "\n",
       "    .dataframe thead th {\n",
       "        text-align: right;\n",
       "    }\n",
       "</style>\n",
       "<table border=\"1\" class=\"dataframe\">\n",
       "  <thead>\n",
       "    <tr style=\"text-align: right;\">\n",
       "      <th></th>\n",
       "      <th>SepalLengthCm</th>\n",
       "      <th>SepalWidthCm</th>\n",
       "      <th>PetalLengthCm</th>\n",
       "      <th>PetalWidthCm</th>\n",
       "      <th>Species</th>\n",
       "    </tr>\n",
       "  </thead>\n",
       "  <tbody>\n",
       "    <tr>\n",
       "      <th>0</th>\n",
       "      <td>5.1</td>\n",
       "      <td>3.5</td>\n",
       "      <td>1.4</td>\n",
       "      <td>0.2</td>\n",
       "      <td>Iris-setosa</td>\n",
       "    </tr>\n",
       "    <tr>\n",
       "      <th>1</th>\n",
       "      <td>4.9</td>\n",
       "      <td>3.0</td>\n",
       "      <td>1.4</td>\n",
       "      <td>0.2</td>\n",
       "      <td>Iris-setosa</td>\n",
       "    </tr>\n",
       "    <tr>\n",
       "      <th>2</th>\n",
       "      <td>4.7</td>\n",
       "      <td>3.2</td>\n",
       "      <td>1.3</td>\n",
       "      <td>0.2</td>\n",
       "      <td>Iris-setosa</td>\n",
       "    </tr>\n",
       "    <tr>\n",
       "      <th>3</th>\n",
       "      <td>4.6</td>\n",
       "      <td>3.1</td>\n",
       "      <td>1.5</td>\n",
       "      <td>0.2</td>\n",
       "      <td>Iris-setosa</td>\n",
       "    </tr>\n",
       "    <tr>\n",
       "      <th>4</th>\n",
       "      <td>5.0</td>\n",
       "      <td>3.6</td>\n",
       "      <td>1.4</td>\n",
       "      <td>0.2</td>\n",
       "      <td>Iris-setosa</td>\n",
       "    </tr>\n",
       "  </tbody>\n",
       "</table>\n",
       "</div>"
      ],
      "text/plain": [
       "   SepalLengthCm  SepalWidthCm  PetalLengthCm  PetalWidthCm      Species\n",
       "0            5.1           3.5            1.4           0.2  Iris-setosa\n",
       "1            4.9           3.0            1.4           0.2  Iris-setosa\n",
       "2            4.7           3.2            1.3           0.2  Iris-setosa\n",
       "3            4.6           3.1            1.5           0.2  Iris-setosa\n",
       "4            5.0           3.6            1.4           0.2  Iris-setosa"
      ]
     },
     "execution_count": 2,
     "metadata": {},
     "output_type": "execute_result"
    }
   ],
   "source": [
    "iris = pd.read_csv('Iris.csv')\n",
    "iris.drop(['Id'], axis = 1, inplace = True)\n",
    "iris.head()"
   ]
  },
  {
   "cell_type": "code",
   "execution_count": 3,
   "metadata": {},
   "outputs": [],
   "source": [
    "trainX, testX, trainY, testY = train_test_split(iris.drop(['Species'], axis =1), iris.Species, test_size= 0.25, \n",
    "                                                stratify = iris['Species'])"
   ]
  },
  {
   "cell_type": "code",
   "execution_count": 5,
   "metadata": {},
   "outputs": [],
   "source": [
    "parameters_test = {\n",
    "    'C':[0.1, 0.5, 1.0, 5.0, 10.0],\n",
    "    'kernel':['linear','poly','rbf','sigmoid']\n",
    "}"
   ]
  },
  {
   "cell_type": "code",
   "execution_count": 6,
   "metadata": {},
   "outputs": [],
   "source": [
    "classificator = SVC()\n",
    "grid = GridSearchCV(classificator, parameters_test, scoring= 'accuracy', n_jobs=-1)"
   ]
  },
  {
   "cell_type": "code",
   "execution_count": 7,
   "metadata": {},
   "outputs": [
    {
     "name": "stderr",
     "output_type": "stream",
     "text": [
      "C:\\ProgramData\\Anaconda3\\lib\\site-packages\\sklearn\\model_selection\\_split.py:2053: FutureWarning: You should specify a value for 'cv' instead of relying on the default value. The default value will change from 3 to 5 in version 0.22.\n",
      "  warnings.warn(CV_WARNING, FutureWarning)\n"
     ]
    },
    {
     "data": {
      "text/plain": [
       "GridSearchCV(cv='warn', error_score='raise-deprecating',\n",
       "       estimator=SVC(C=1.0, cache_size=200, class_weight=None, coef0=0.0,\n",
       "  decision_function_shape='ovr', degree=3, gamma='auto_deprecated',\n",
       "  kernel='rbf', max_iter=-1, probability=False, random_state=None,\n",
       "  shrinking=True, tol=0.001, verbose=False),\n",
       "       fit_params=None, iid='warn', n_jobs=-1,\n",
       "       param_grid={'C': [0.1, 0.5, 1.0, 5.0, 10.0], 'kernel': ['linear', 'poly', 'rbf', 'sigmoid']},\n",
       "       pre_dispatch='2*n_jobs', refit=True, return_train_score='warn',\n",
       "       scoring='accuracy', verbose=0)"
      ]
     },
     "execution_count": 7,
     "metadata": {},
     "output_type": "execute_result"
    }
   ],
   "source": [
    "grid.fit(trainX, trainY)"
   ]
  },
  {
   "cell_type": "code",
   "execution_count": 8,
   "metadata": {},
   "outputs": [
    {
     "name": "stdout",
     "output_type": "stream",
     "text": [
      "    mean_fit_time  std_fit_time  mean_score_time  std_score_time param_C  \\\n",
      "0        0.003325  4.704712e-04         0.001994    0.000000e+00     0.1   \n",
      "1        0.004987  2.247832e-07         0.001663    4.702464e-04     0.1   \n",
      "2        0.004321  9.401557e-04         0.001330    4.704712e-04     0.1   \n",
      "3        0.009309  6.113766e-03         0.004654    3.083390e-03     0.1   \n",
      "4        0.001995  8.147827e-04         0.000665    4.701341e-04     0.5   \n",
      "5        0.001662  4.698531e-04         0.000665    4.701341e-04     0.5   \n",
      "6        0.001662  4.702465e-04         0.000997    1.946680e-07     0.5   \n",
      "7        0.001662  4.701903e-04         0.000665    4.700217e-04     0.5   \n",
      "8        0.001330  4.700781e-04         0.000665    4.703027e-04       1   \n",
      "9        0.001330  4.697970e-04         0.000997    4.052337e-07       1   \n",
      "10       0.001662  4.703026e-04         0.000665    4.700779e-04       1   \n",
      "11       0.001662  4.700779e-04         0.000997    1.123916e-07       1   \n",
      "12       0.000997  2.247832e-07         0.000997    2.247832e-07       5   \n",
      "13       0.001995  1.946680e-07         0.000665    4.700779e-04       5   \n",
      "14       0.001330  4.699093e-04         0.000665    4.700779e-04       5   \n",
      "15       0.001995  2.973602e-07         0.000665    4.703027e-04       5   \n",
      "16       0.001330  4.705840e-04         0.000665    4.705277e-04      10   \n",
      "17       0.001994  8.143935e-04         0.000665    4.700779e-04      10   \n",
      "18       0.001662  4.701903e-04         0.000665    4.703590e-04      10   \n",
      "19       0.001666  4.738149e-04         0.000993    6.293929e-06      10   \n",
      "\n",
      "   param_kernel                            params  split0_test_score  \\\n",
      "0        linear    {'C': 0.1, 'kernel': 'linear'}           0.923077   \n",
      "1          poly      {'C': 0.1, 'kernel': 'poly'}           0.897436   \n",
      "2           rbf       {'C': 0.1, 'kernel': 'rbf'}           0.897436   \n",
      "3       sigmoid   {'C': 0.1, 'kernel': 'sigmoid'}           0.333333   \n",
      "4        linear    {'C': 0.5, 'kernel': 'linear'}           0.897436   \n",
      "5          poly      {'C': 0.5, 'kernel': 'poly'}           0.897436   \n",
      "6           rbf       {'C': 0.5, 'kernel': 'rbf'}           0.923077   \n",
      "7       sigmoid   {'C': 0.5, 'kernel': 'sigmoid'}           0.333333   \n",
      "8        linear    {'C': 1.0, 'kernel': 'linear'}           0.897436   \n",
      "9          poly      {'C': 1.0, 'kernel': 'poly'}           0.897436   \n",
      "10          rbf       {'C': 1.0, 'kernel': 'rbf'}           0.923077   \n",
      "11      sigmoid   {'C': 1.0, 'kernel': 'sigmoid'}           0.333333   \n",
      "12       linear    {'C': 5.0, 'kernel': 'linear'}           0.923077   \n",
      "13         poly      {'C': 5.0, 'kernel': 'poly'}           0.897436   \n",
      "14          rbf       {'C': 5.0, 'kernel': 'rbf'}           0.948718   \n",
      "15      sigmoid   {'C': 5.0, 'kernel': 'sigmoid'}           0.333333   \n",
      "16       linear   {'C': 10.0, 'kernel': 'linear'}           0.923077   \n",
      "17         poly     {'C': 10.0, 'kernel': 'poly'}           0.897436   \n",
      "18          rbf      {'C': 10.0, 'kernel': 'rbf'}           0.948718   \n",
      "19      sigmoid  {'C': 10.0, 'kernel': 'sigmoid'}           0.333333   \n",
      "\n",
      "    split1_test_score  split2_test_score  mean_test_score  std_test_score  \\\n",
      "0            1.000000           1.000000         0.973214        0.036646   \n",
      "1            0.918919           0.972222         0.928571        0.031318   \n",
      "2            1.000000           1.000000         0.964286        0.048862   \n",
      "3            0.324324           0.333333         0.330357        0.004237   \n",
      "4            0.972973           1.000000         0.955357        0.043719   \n",
      "5            0.864865           1.000000         0.919643        0.056908   \n",
      "6            1.000000           1.000000         0.973214        0.036646   \n",
      "7            0.324324           0.333333         0.330357        0.004237   \n",
      "8            0.972973           0.972222         0.946429        0.035811   \n",
      "9            0.864865           1.000000         0.919643        0.056908   \n",
      "10           1.000000           1.000000         0.973214        0.036646   \n",
      "11           0.324324           0.333333         0.330357        0.004237   \n",
      "12           0.945946           0.972222         0.946429        0.020095   \n",
      "13           0.864865           1.000000         0.919643        0.056908   \n",
      "14           0.972973           0.972222         0.964286        0.011383   \n",
      "15           0.324324           0.333333         0.330357        0.004237   \n",
      "16           0.918919           0.972222         0.937500        0.023959   \n",
      "17           0.864865           1.000000         0.919643        0.056908   \n",
      "18           0.945946           0.972222         0.955357        0.011663   \n",
      "19           0.324324           0.333333         0.330357        0.004237   \n",
      "\n",
      "    rank_test_score  split0_train_score  split1_train_score  \\\n",
      "0                 1            0.972603            0.960000   \n",
      "1                11            1.000000            1.000000   \n",
      "2                 4            0.986301            0.946667   \n",
      "3                16            0.342466            0.333333   \n",
      "4                 6            0.986301            0.973333   \n",
      "5                12            1.000000            1.000000   \n",
      "6                 1            0.972603            0.960000   \n",
      "7                16            0.342466            0.333333   \n",
      "8                 8            1.000000            0.986667   \n",
      "9                12            1.000000            1.000000   \n",
      "10                1            0.972603            0.973333   \n",
      "11               16            0.342466            0.333333   \n",
      "12                8            1.000000            0.986667   \n",
      "13               12            1.000000            1.000000   \n",
      "14                4            1.000000            0.986667   \n",
      "15               16            0.342466            0.333333   \n",
      "16               10            0.986301            0.973333   \n",
      "17               12            1.000000            1.000000   \n",
      "18                6            1.000000            0.986667   \n",
      "19               16            0.342466            0.333333   \n",
      "\n",
      "    split2_train_score  mean_train_score  std_train_score  \n",
      "0             0.973684          0.968762         0.006212  \n",
      "1             0.973684          0.991228         0.012405  \n",
      "2             0.947368          0.960112         0.018521  \n",
      "3             0.342105          0.339301         0.004223  \n",
      "4             0.960526          0.973387         0.010523  \n",
      "5             0.973684          0.991228         0.012405  \n",
      "6             0.960526          0.964376         0.005821  \n",
      "7             0.342105          0.339301         0.004223  \n",
      "8             0.973684          0.986784         0.010744  \n",
      "9             0.973684          0.991228         0.012405  \n",
      "10            0.960526          0.968821         0.005873  \n",
      "11            0.342105          0.339301         0.004223  \n",
      "12            0.973684          0.986784         0.010744  \n",
      "13            0.973684          0.991228         0.012405  \n",
      "14            0.973684          0.986784         0.010744  \n",
      "15            0.342105          0.339301         0.004223  \n",
      "16            0.960526          0.973387         0.010523  \n",
      "17            0.973684          0.991228         0.012405  \n",
      "18            0.973684          0.986784         0.010744  \n",
      "19            0.342105          0.339301         0.004223  \n"
     ]
    },
    {
     "name": "stderr",
     "output_type": "stream",
     "text": [
      "C:\\ProgramData\\Anaconda3\\lib\\site-packages\\sklearn\\utils\\deprecation.py:125: FutureWarning: You are accessing a training score ('split0_train_score'), which will not be available by default any more in 0.21. If you need training scores, please set return_train_score=True\n",
      "  warnings.warn(*warn_args, **warn_kwargs)\n",
      "C:\\ProgramData\\Anaconda3\\lib\\site-packages\\sklearn\\utils\\deprecation.py:125: FutureWarning: You are accessing a training score ('split1_train_score'), which will not be available by default any more in 0.21. If you need training scores, please set return_train_score=True\n",
      "  warnings.warn(*warn_args, **warn_kwargs)\n",
      "C:\\ProgramData\\Anaconda3\\lib\\site-packages\\sklearn\\utils\\deprecation.py:125: FutureWarning: You are accessing a training score ('split2_train_score'), which will not be available by default any more in 0.21. If you need training scores, please set return_train_score=True\n",
      "  warnings.warn(*warn_args, **warn_kwargs)\n",
      "C:\\ProgramData\\Anaconda3\\lib\\site-packages\\sklearn\\utils\\deprecation.py:125: FutureWarning: You are accessing a training score ('mean_train_score'), which will not be available by default any more in 0.21. If you need training scores, please set return_train_score=True\n",
      "  warnings.warn(*warn_args, **warn_kwargs)\n",
      "C:\\ProgramData\\Anaconda3\\lib\\site-packages\\sklearn\\utils\\deprecation.py:125: FutureWarning: You are accessing a training score ('std_train_score'), which will not be available by default any more in 0.21. If you need training scores, please set return_train_score=True\n",
      "  warnings.warn(*warn_args, **warn_kwargs)\n"
     ]
    }
   ],
   "source": [
    "print(pd.DataFrame(grid.cv_results_))"
   ]
  },
  {
   "cell_type": "code",
   "execution_count": 9,
   "metadata": {},
   "outputs": [
    {
     "data": {
      "text/plain": [
       "{'C': 0.1, 'kernel': 'linear'}"
      ]
     },
     "execution_count": 9,
     "metadata": {},
     "output_type": "execute_result"
    }
   ],
   "source": [
    "grid.best_params_"
   ]
  },
  {
   "cell_type": "code",
   "execution_count": 14,
   "metadata": {},
   "outputs": [
    {
     "name": "stdout",
     "output_type": "stream",
     "text": [
      "[[12  0  0]\n",
      " [ 0 13  0]\n",
      " [ 0  2 11]]\n",
      "                 precision    recall  f1-score   support\n",
      "\n",
      "    Iris-setosa       1.00      1.00      1.00        12\n",
      "Iris-versicolor       0.87      1.00      0.93        13\n",
      " Iris-virginica       1.00      0.85      0.92        13\n",
      "\n",
      "      micro avg       0.95      0.95      0.95        38\n",
      "      macro avg       0.96      0.95      0.95        38\n",
      "   weighted avg       0.95      0.95      0.95        38\n",
      "\n"
     ]
    }
   ],
   "source": [
    "classificator = SVC(C = 0.1, kernel='linear')\n",
    "classificator.fit(trainX, trainY)\n",
    "predict = classificator.predict(testX)\n",
    "print(confusion_matrix(testY, predict))\n",
    "print(classification_report(testY, predict))"
   ]
  },
  {
   "cell_type": "code",
   "execution_count": 18,
   "metadata": {},
   "outputs": [
    {
     "data": {
      "text/plain": [
       "array([[5.7, 3.8, 1.7, 0.3],\n",
       "       [5.4, 3.4, 1.7, 0.2],\n",
       "       [4.5, 2.3, 1.3, 0.3],\n",
       "       [5.1, 3.8, 1.9, 0.4],\n",
       "       [4.8, 3.4, 1.9, 0.2],\n",
       "       [6. , 2.7, 5.1, 1.6],\n",
       "       [5.5, 2.4, 3.7, 1. ],\n",
       "       [6.1, 2.9, 4.7, 1.4],\n",
       "       [6.5, 2.8, 4.6, 1.5],\n",
       "       [6.2, 2.9, 4.3, 1.3],\n",
       "       [5.6, 2.9, 3.6, 1.3],\n",
       "       [5.6, 3. , 4.5, 1.5],\n",
       "       [6.7, 3. , 5. , 1.7],\n",
       "       [6.3, 3.3, 4.7, 1.6],\n",
       "       [6.7, 3.1, 4.4, 1.4],\n",
       "       [5.9, 3. , 4.2, 1.5],\n",
       "       [5.9, 3.2, 4.8, 1.8],\n",
       "       [6.4, 2.9, 4.3, 1.3],\n",
       "       [6.1, 3. , 4.6, 1.4],\n",
       "       [6.1, 2.8, 4.7, 1.2],\n",
       "       [6.6, 2.9, 4.6, 1.3],\n",
       "       [6.2, 2.2, 4.5, 1.5],\n",
       "       [6.3, 2.5, 4.9, 1.5],\n",
       "       [5. , 2.3, 3.3, 1. ],\n",
       "       [5. , 2. , 3.5, 1. ],\n",
       "       [5.7, 2.8, 4.5, 1.3],\n",
       "       [6.8, 2.8, 4.8, 1.4],\n",
       "       [6. , 2.9, 4.5, 1.5],\n",
       "       [6.5, 3. , 5.2, 2. ],\n",
       "       [6.5, 3.2, 5.1, 2. ],\n",
       "       [6. , 2.2, 5. , 1.5],\n",
       "       [6.2, 3.4, 5.4, 2.3],\n",
       "       [6.3, 2.5, 5. , 1.9],\n",
       "       [5.8, 2.7, 5.1, 1.9],\n",
       "       [6.2, 2.8, 4.8, 1.8],\n",
       "       [5.8, 2.8, 5.1, 2.4],\n",
       "       [6.4, 3.2, 5.3, 2.3],\n",
       "       [6.3, 2.9, 5.6, 1.8],\n",
       "       [6.1, 2.6, 5.6, 1.4],\n",
       "       [7.2, 3. , 5.8, 1.6],\n",
       "       [6.9, 3.1, 5.4, 2.1],\n",
       "       [5.9, 3. , 5.1, 1.8],\n",
       "       [6.3, 2.8, 5.1, 1.5],\n",
       "       [6.4, 3.1, 5.5, 1.8],\n",
       "       [6.3, 2.7, 4.9, 1.8],\n",
       "       [6.9, 3.1, 5.1, 2.3],\n",
       "       [6.4, 2.7, 5.3, 1.9]])"
      ]
     },
     "execution_count": 18,
     "metadata": {},
     "output_type": "execute_result"
    }
   ],
   "source": [
    "classificator.support_vectors_"
   ]
  },
  {
   "cell_type": "code",
   "execution_count": 23,
   "metadata": {},
   "outputs": [
    {
     "data": {
      "text/plain": [
       "array([[-0.12211428,  0.32735588, -0.70509254, -0.31199894],\n",
       "       [-0.13598509,  0.13223471, -0.45388715, -0.21567754],\n",
       "       [-0.1589555 , -0.00289555, -1.06343325, -0.81868665]])"
      ]
     },
     "execution_count": 23,
     "metadata": {},
     "output_type": "execute_result"
    }
   ],
   "source": [
    "classificator.coef_"
   ]
  },
  {
   "cell_type": "code",
   "execution_count": 24,
   "metadata": {},
   "outputs": [
    {
     "data": {
      "text/plain": [
       "array([1.807032  , 2.10874575, 7.6309773 ])"
      ]
     },
     "execution_count": 24,
     "metadata": {},
     "output_type": "execute_result"
    }
   ],
   "source": [
    "classificator.intercept_"
   ]
  },
  {
   "cell_type": "code",
   "execution_count": 25,
   "metadata": {},
   "outputs": [],
   "source": [
    "trainX, testX, trainY, testY = train_test_split(iris.drop(['Species', 'SepalWidthCm', 'SepalLengthCm'], axis =1), iris.Species, test_size= 0.25, \n",
    "                                                stratify = iris['Species'])"
   ]
  },
  {
   "cell_type": "code",
   "execution_count": 28,
   "metadata": {},
   "outputs": [
    {
     "name": "stdout",
     "output_type": "stream",
     "text": [
      "[[13  0  0]\n",
      " [ 0 12  1]\n",
      " [ 0  1 11]]\n",
      "                 precision    recall  f1-score   support\n",
      "\n",
      "    Iris-setosa       1.00      1.00      1.00        13\n",
      "Iris-versicolor       0.92      0.92      0.92        13\n",
      " Iris-virginica       0.92      0.92      0.92        12\n",
      "\n",
      "      micro avg       0.95      0.95      0.95        38\n",
      "      macro avg       0.95      0.95      0.95        38\n",
      "   weighted avg       0.95      0.95      0.95        38\n",
      "\n"
     ]
    },
    {
     "name": "stderr",
     "output_type": "stream",
     "text": [
      "C:\\ProgramData\\Anaconda3\\lib\\site-packages\\sklearn\\svm\\base.py:196: FutureWarning: The default value of gamma will change from 'auto' to 'scale' in version 0.22 to account better for unscaled features. Set gamma explicitly to 'auto' or 'scale' to avoid this warning.\n",
      "  \"avoid this warning.\", FutureWarning)\n"
     ]
    }
   ],
   "source": [
    "classificator = SVC(C = 10, kernel='rbf')\n",
    "classificator.fit(trainX, trainY)\n",
    "predict = classificator.predict(testX)\n",
    "print(confusion_matrix(testY, predict))\n",
    "print(classification_report(testY, predict))"
   ]
  },
  {
   "cell_type": "code",
   "execution_count": 32,
   "metadata": {},
   "outputs": [],
   "source": [
    "from mlxtend.plotting import plot_decision_regions\n",
    "from sklearn.preprocessing import LabelEncoder"
   ]
  },
  {
   "cell_type": "code",
   "execution_count": 33,
   "metadata": {},
   "outputs": [],
   "source": [
    "le = LabelEncoder()\n",
    "trainNumY = le.fit_transform(trainY.values)"
   ]
  },
  {
   "cell_type": "code",
   "execution_count": 48,
   "metadata": {},
   "outputs": [
    {
     "name": "stderr",
     "output_type": "stream",
     "text": [
      "C:\\ProgramData\\Anaconda3\\lib\\site-packages\\sklearn\\svm\\base.py:196: FutureWarning: The default value of gamma will change from 'auto' to 'scale' in version 0.22 to account better for unscaled features. Set gamma explicitly to 'auto' or 'scale' to avoid this warning.\n",
      "  \"avoid this warning.\", FutureWarning)\n"
     ]
    },
    {
     "data": {
      "text/plain": [
       "SVC(C=10, cache_size=200, class_weight=None, coef0=0.0,\n",
       "  decision_function_shape='ovr', degree=3, gamma='auto_deprecated',\n",
       "  kernel='rbf', max_iter=-1, probability=False, random_state=None,\n",
       "  shrinking=True, tol=0.001, verbose=False)"
      ]
     },
     "execution_count": 48,
     "metadata": {},
     "output_type": "execute_result"
    }
   ],
   "source": [
    "classificator = SVC(C = 10, kernel='rbf')\n",
    "classificator.fit(trainX, trainNumY)"
   ]
  },
  {
   "cell_type": "code",
   "execution_count": 46,
   "metadata": {},
   "outputs": [
    {
     "data": {
      "text/plain": [
       "array([2, 0, 0, 1, 0, 0, 0, 1, 1, 2, 1, 0, 1, 2, 2, 0, 2, 0, 0, 2, 0, 1,\n",
       "       1, 1, 2, 1, 2, 0, 1, 1, 2, 0, 0, 2, 1, 0, 1, 1, 0, 2, 0, 2, 1, 1,\n",
       "       2, 2, 2, 1, 2, 1, 0, 2, 1, 2, 2, 1, 0, 0, 2, 2, 0, 0, 0, 1, 2, 1,\n",
       "       2, 2, 0, 0, 2, 2, 0, 2, 2, 0, 2, 1, 2, 1, 0, 1, 2, 0, 1, 2, 1, 2,\n",
       "       0, 2, 0, 0, 1, 0, 1, 1, 2, 1, 2, 2, 1, 1, 2, 0, 0, 1, 1, 0, 0, 1,\n",
       "       1, 0])"
      ]
     },
     "execution_count": 46,
     "metadata": {},
     "output_type": "execute_result"
    }
   ],
   "source": [
    "trainNumY"
   ]
  },
  {
   "cell_type": "code",
   "execution_count": 51,
   "metadata": {},
   "outputs": [
    {
     "data": {
      "text/plain": [
       "<matplotlib.axes._subplots.AxesSubplot at 0x237b42385f8>"
      ]
     },
     "execution_count": 51,
     "metadata": {},
     "output_type": "execute_result"
    },
    {
     "data": {
      "image/png": "[encoded data removed]",
      "text/plain": [
       "<Figure size 432x288 with 1 Axes>"
      ]
     },
     "metadata": {
      "needs_background": "light"
     },
     "output_type": "display_data"
    }
   ],
   "source": [
    "plot_decision_regions(X=trainX.values, \n",
    "                      y=trainNumY,\n",
    "                      clf=classificator,\n",
    "                      legend=3\n",
    "                      )"
   ]
  },
  {
   "cell_type": "code",
   "execution_count": 55,
   "metadata": {},
   "outputs": [
    {
     "name": "stdout",
     "output_type": "stream",
     "text": [
      "0 is Iris-setosa\n",
      "1 is Iris-versicolor\n",
      "2 is Iris-virginica\n"
     ]
    }
   ],
   "source": [
    "print('0 is %s' % le.inverse_transform([0])[0])\n",
    "print('1 is %s' % le.inverse_transform([1])[0])\n",
    "print('2 is %s' % le.inverse_transform([2])[0])"
   ]
  }
 ],
 "metadata": {
  "kernelspec": {
   "display_name": "Python 3",
   "language": "python",
   "name": "python3"
  },
  "language_info": {
   "codemirror_mode": {
    "name": "ipython",
    "version": 3
   },
   "file_extension": ".py",
   "mimetype": "text/x-python",
   "name": "python",
   "nbconvert_exporter": "python",
   "pygments_lexer": "ipython3",
   "version": "3.6.8"
  }
 },
 "nbformat": 4,
 "nbformat_minor": 2
}
