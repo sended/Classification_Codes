{
 "cells": [
  {
   "cell_type": "code",
   "execution_count": 1,
   "metadata": {},
   "outputs": [],
   "source": [
    "import numpy as np\n",
    "import pandas as pd\n",
    "from sklearn.tree import DecisionTreeClassifier\n",
    "from sklearn.model_selection import cross_val_score, cross_validate, cross_val_predict"
   ]
  },
  {
   "cell_type": "code",
   "execution_count": 2,
   "metadata": {},
   "outputs": [
    {
     "data": {
      "text/html": [
       "<div>\n",
       "<style scoped>\n",
       "    .dataframe tbody tr th:only-of-type {\n",
       "        vertical-align: middle;\n",
       "    }\n",
       "\n",
       "    .dataframe tbody tr th {\n",
       "        vertical-align: top;\n",
       "    }\n",
       "\n",
       "    .dataframe thead th {\n",
       "        text-align: right;\n",
       "    }\n",
       "</style>\n",
       "<table border=\"1\" class=\"dataframe\">\n",
       "  <thead>\n",
       "    <tr style=\"text-align: right;\">\n",
       "      <th></th>\n",
       "      <th>SepalLengthCm</th>\n",
       "      <th>SepalWidthCm</th>\n",
       "      <th>PetalLengthCm</th>\n",
       "      <th>PetalWidthCm</th>\n",
       "      <th>Species</th>\n",
       "    </tr>\n",
       "  </thead>\n",
       "  <tbody>\n",
       "    <tr>\n",
       "      <th>0</th>\n",
       "      <td>5.1</td>\n",
       "      <td>3.5</td>\n",
       "      <td>1.4</td>\n",
       "      <td>0.2</td>\n",
       "      <td>Iris-setosa</td>\n",
       "    </tr>\n",
       "    <tr>\n",
       "      <th>1</th>\n",
       "      <td>4.9</td>\n",
       "      <td>3.0</td>\n",
       "      <td>1.4</td>\n",
       "      <td>0.2</td>\n",
       "      <td>Iris-setosa</td>\n",
       "    </tr>\n",
       "    <tr>\n",
       "      <th>2</th>\n",
       "      <td>4.7</td>\n",
       "      <td>3.2</td>\n",
       "      <td>1.3</td>\n",
       "      <td>0.2</td>\n",
       "      <td>Iris-setosa</td>\n",
       "    </tr>\n",
       "    <tr>\n",
       "      <th>3</th>\n",
       "      <td>4.6</td>\n",
       "      <td>3.1</td>\n",
       "      <td>1.5</td>\n",
       "      <td>0.2</td>\n",
       "      <td>Iris-setosa</td>\n",
       "    </tr>\n",
       "    <tr>\n",
       "      <th>4</th>\n",
       "      <td>5.0</td>\n",
       "      <td>3.6</td>\n",
       "      <td>1.4</td>\n",
       "      <td>0.2</td>\n",
       "      <td>Iris-setosa</td>\n",
       "    </tr>\n",
       "  </tbody>\n",
       "</table>\n",
       "</div>"
      ],
      "text/plain": [
       "   SepalLengthCm  SepalWidthCm  PetalLengthCm  PetalWidthCm      Species\n",
       "0            5.1           3.5            1.4           0.2  Iris-setosa\n",
       "1            4.9           3.0            1.4           0.2  Iris-setosa\n",
       "2            4.7           3.2            1.3           0.2  Iris-setosa\n",
       "3            4.6           3.1            1.5           0.2  Iris-setosa\n",
       "4            5.0           3.6            1.4           0.2  Iris-setosa"
      ]
     },
     "execution_count": 2,
     "metadata": {},
     "output_type": "execute_result"
    }
   ],
   "source": [
    "iris = pd.read_csv('Iris.csv')\n",
    "iris.drop(['Id'], axis = 1, inplace = True)\n",
    "iris.head()"
   ]
  },
  {
   "cell_type": "code",
   "execution_count": 6,
   "metadata": {},
   "outputs": [],
   "source": [
    "XC = iris.drop(['Species'], axis = 1) #X completo\n",
    "XP = iris.drop(['SepalLengthCm', 'SepalWidthCm', 'Species'], axis=1)\n",
    "Y = iris['Species']"
   ]
  },
  {
   "cell_type": "code",
   "execution_count": 4,
   "metadata": {},
   "outputs": [],
   "source": [
    "tree = DecisionTreeClassifier()"
   ]
  },
  {
   "cell_type": "code",
   "execution_count": 7,
   "metadata": {},
   "outputs": [
    {
     "name": "stdout",
     "output_type": "stream",
     "text": [
      "[0.96666667 0.96666667 0.9        1.         1.        ]\n"
     ]
    }
   ],
   "source": [
    "score = cross_val_score(tree, XC, Y, cv=5, n_jobs=-1)\n",
    "print(score)"
   ]
  },
  {
   "cell_type": "code",
   "execution_count": 13,
   "metadata": {},
   "outputs": [
    {
     "name": "stdout",
     "output_type": "stream",
     "text": [
      "[0.96666667 0.96666667 0.9        0.93333333 1.        ]\n"
     ]
    }
   ],
   "source": [
    "score = cross_val_score(tree, XP, Y, cv=5, n_jobs=-1)\n",
    "print(score)"
   ]
  },
  {
   "cell_type": "code",
   "execution_count": 8,
   "metadata": {},
   "outputs": [],
   "source": [
    "from sklearn import metrics"
   ]
  },
  {
   "cell_type": "code",
   "execution_count": 9,
   "metadata": {},
   "outputs": [
    {
     "name": "stdout",
     "output_type": "stream",
     "text": [
      "[0.96658312 0.96658312 0.89974937 1.         1.        ]\n"
     ]
    }
   ],
   "source": [
    "score = cross_val_score(tree, XC, Y, cv=5, n_jobs=-1, scoring='f1_macro')\n",
    "print(score)"
   ]
  },
  {
   "cell_type": "code",
   "execution_count": 14,
   "metadata": {},
   "outputs": [
    {
     "name": "stdout",
     "output_type": "stream",
     "text": [
      "[0.96658312 0.96658312 0.89974937 0.93333333 1.        ]\n"
     ]
    }
   ],
   "source": [
    "score = cross_val_score(tree, XP, Y, cv=5, n_jobs=-1, scoring='f1_macro')\n",
    "print(score)"
   ]
  },
  {
   "cell_type": "code",
   "execution_count": 11,
   "metadata": {},
   "outputs": [],
   "source": [
    "from sklearn.model_selection import ShuffleSplit"
   ]
  },
  {
   "cell_type": "code",
   "execution_count": 12,
   "metadata": {},
   "outputs": [
    {
     "name": "stdout",
     "output_type": "stream",
     "text": [
      "ShuffleSplit(n_splits=3, random_state=None, test_size=0.3, train_size=None)\n"
     ]
    }
   ],
   "source": [
    "cv = ShuffleSplit(n_splits=3, test_size=0.3)\n",
    "print(cv)"
   ]
  },
  {
   "cell_type": "code",
   "execution_count": 15,
   "metadata": {},
   "outputs": [
    {
     "data": {
      "text/plain": [
       "array([0.93333333, 0.93333333, 0.93333333])"
      ]
     },
     "execution_count": 15,
     "metadata": {},
     "output_type": "execute_result"
    }
   ],
   "source": [
    "cross_val_score(tree, XC, Y, cv=cv, n_jobs=-1)"
   ]
  },
  {
   "cell_type": "code",
   "execution_count": 16,
   "metadata": {},
   "outputs": [
    {
     "data": {
      "text/plain": [
       "array([0.95555556, 0.95555556, 0.95555556])"
      ]
     },
     "execution_count": 16,
     "metadata": {},
     "output_type": "execute_result"
    }
   ],
   "source": [
    "cross_val_score(tree, XP, Y, cv=cv, n_jobs=-1)"
   ]
  },
  {
   "cell_type": "code",
   "execution_count": 17,
   "metadata": {},
   "outputs": [
    {
     "name": "stdout",
     "output_type": "stream",
     "text": [
      "0.96\n"
     ]
    }
   ],
   "source": [
    "predict = cross_val_predict(tree, XC, Y, cv=10, n_jobs=-1)\n",
    "print(metrics.accuracy_score(Y, predict))"
   ]
  },
  {
   "cell_type": "code",
   "execution_count": 18,
   "metadata": {},
   "outputs": [
    {
     "name": "stdout",
     "output_type": "stream",
     "text": [
      "0.9466666666666667\n"
     ]
    }
   ],
   "source": [
    "predict = cross_val_predict(tree, XP, Y, cv=10, n_jobs=-1)\n",
    "print(metrics.accuracy_score(Y, predict))"
   ]
  },
  {
   "cell_type": "code",
   "execution_count": 19,
   "metadata": {},
   "outputs": [],
   "source": [
    "from sklearn.model_selection import KFold"
   ]
  },
  {
   "cell_type": "code",
   "execution_count": 33,
   "metadata": {},
   "outputs": [
    {
     "name": "stdout",
     "output_type": "stream",
     "text": [
      "[0.9333333333333333, 0.9666666666666667, 0.9333333333333333, 0.9666666666666667, 0.9333333333333333]\n",
      "[0.9333333333333333, 0.9666666666666667, 0.9333333333333333, 0.9666666666666667, 0.9666666666666667]\n"
     ]
    }
   ],
   "source": [
    "XC_Score = []\n",
    "XP_Score = []\n",
    "kfold = KFold(n_splits=5, shuffle=True)\n",
    "\n",
    "for train, test in kfold.split(iris):\n",
    "    iris_train = iris.iloc[train, :]\n",
    "    XC_T = iris_train.drop(['Species'], axis = 1) \n",
    "    XP_T = iris_train.drop(['SepalLengthCm', 'SepalWidthCm', 'Species'], axis=1)\n",
    "    Y_T = iris_train['Species']\n",
    "    iris_teste = iris.iloc[test, :]\n",
    "    XC_TS = iris_teste.drop(['Species'], axis = 1) \n",
    "    XP_TS = iris_teste.drop(['SepalLengthCm', 'SepalWidthCm', 'Species'], axis=1)\n",
    "    Y_TS = iris_teste['Species']\n",
    "    tree_ = DecisionTreeClassifier()\n",
    "    tree_.fit(XC_T, Y_T)\n",
    "    XC_Score.append(tree_.score(XC_TS, Y_TS))\n",
    "    tree_ = DecisionTreeClassifier()\n",
    "    tree_.fit(XP_T, Y_T)\n",
    "    XP_Score.append(tree_.score(XP_TS, Y_TS))\n",
    "    \n",
    "print(XC_Score)\n",
    "print(XP_Score)"
   ]
  },
  {
   "cell_type": "code",
   "execution_count": 34,
   "metadata": {},
   "outputs": [],
   "source": [
    "from sklearn.model_selection import StratifiedKFold"
   ]
  },
  {
   "cell_type": "code",
   "execution_count": 37,
   "metadata": {},
   "outputs": [
    {
     "name": "stdout",
     "output_type": "stream",
     "text": [
      "[0.9666666666666667, 0.9666666666666667, 0.9, 0.9333333333333333, 1.0]\n",
      "[0.9666666666666667, 0.9666666666666667, 0.9, 0.9333333333333333, 1.0]\n"
     ]
    }
   ],
   "source": [
    "XC_Score = []\n",
    "XP_Score = []\n",
    "stratifiedkfold = StratifiedKFold(n_splits=5)\n",
    "\n",
    "for train, test in stratifiedkfold.split(iris, iris['Species']):\n",
    "    iris_train = iris.iloc[train, :]\n",
    "    XC_T = iris_train.drop(['Species'], axis = 1) \n",
    "    XP_T = iris_train.drop(['SepalLengthCm', 'SepalWidthCm', 'Species'], axis=1)\n",
    "    Y_T = iris_train['Species']\n",
    "    iris_teste = iris.iloc[test, :]\n",
    "    XC_TS = iris_teste.drop(['Species'], axis = 1) \n",
    "    XP_TS = iris_teste.drop(['SepalLengthCm', 'SepalWidthCm', 'Species'], axis=1)\n",
    "    Y_TS = iris_teste['Species']\n",
    "    tree_ = DecisionTreeClassifier()\n",
    "    tree_.fit(XC_T, Y_T)\n",
    "    XC_Score.append(tree_.score(XC_TS, Y_TS))\n",
    "    tree_ = DecisionTreeClassifier()\n",
    "    tree_.fit(XP_T, Y_T)\n",
    "    XP_Score.append(tree_.score(XP_TS, Y_TS))\n",
    "    \n",
    "print(XC_Score)\n",
    "print(XP_Score)"
   ]
  }
 ],
 "metadata": {
  "kernelspec": {
   "display_name": "Python 3",
   "language": "python",
   "name": "python3"
  },
  "language_info": {
   "codemirror_mode": {
    "name": "ipython",
    "version": 3
   },
   "file_extension": ".py",
   "mimetype": "text/x-python",
   "name": "python",
   "nbconvert_exporter": "python",
   "pygments_lexer": "ipython3",
   "version": "3.6.8"
  }
 },
 "nbformat": 4,
 "nbformat_minor": 2
}
